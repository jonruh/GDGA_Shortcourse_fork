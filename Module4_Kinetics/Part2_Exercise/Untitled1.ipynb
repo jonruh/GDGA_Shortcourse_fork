{
 "cells": [
  {
   "cell_type": "code",
   "execution_count": 1,
   "id": "c2ae7a7f-c4cd-452b-9ea7-6c7a7bf43211",
   "metadata": {},
   "outputs": [
    {
     "name": "stdout",
     "output_type": "stream",
     "text": [
      "Set parameter Username\n",
      "Academic license - for non-commercial use only - expires 2024-03-22\n",
      "COBRApy version: 0.23.0\n",
      "MASSpy version: 0.1.7\n"
     ]
    }
   ],
   "source": [
    "# Disable gurobi logging output for this notebook.\n",
    "try:\n",
    "    import gurobipy\n",
    "    gurobipy.setParam(\"OutputFlag\", 0)\n",
    "except ImportError:\n",
    "    pass\n",
    "\n",
    "\n",
    "import numpy as np\n",
    "import pandas as pd\n",
    "import sympy as sym\n",
    "import matplotlib.pyplot as plt\n",
    "\n",
    "import cobra\n",
    "from cobra.io.json import load_json_model as load_cobra_json_model\n",
    "\n",
    "import mass\n",
    "from mass import MassConfiguration, MassModel, MassMetabolite, MassReaction, Simulation\n",
    "from mass.io.json import save_json_model as save_mass_json_model\n",
    "from mass.visualization import plot_comparison, plot_time_profile\n",
    "\n",
    "\n",
    "print(f\"COBRApy version: {cobra.__version__}\")\n",
    "print(f\"MASSpy version: {mass.__version__}\")"
   ]
  },
  {
   "cell_type": "code",
   "execution_count": 2,
   "id": "0dcebf19-3e67-4a65-b076-cd5d43181aa7",
   "metadata": {},
   "outputs": [],
   "source": [
    "model = load_cobra_json_model('models/mass/without_enzymes/Glycolysis_Ref_wo_Enzymes.json')"
   ]
  },
  {
   "cell_type": "code",
   "execution_count": 3,
   "id": "16c0ea31-a08d-42fd-a710-9681734869ff",
   "metadata": {},
   "outputs": [
    {
     "data": {
      "text/html": [
       "\n",
       "        <table>\n",
       "            <tr>\n",
       "                <td><strong>Name</strong></td>\n",
       "                <td>Glycolysis_Ref_wo_Enzymes</td>\n",
       "            </tr><tr>\n",
       "                <td><strong>Memory address</strong></td>\n",
       "                <td>0x018df8c5e288</td>\n",
       "            </tr><tr>\n",
       "                <td><strong>Number of metabolites</strong></td>\n",
       "                <td>20</td>\n",
       "            </tr><tr>\n",
       "                <td><strong>Number of reactions</strong></td>\n",
       "                <td>28</td>\n",
       "            </tr><tr>\n",
       "                <td><strong>Number of groups</strong></td>\n",
       "                <td>0</td>\n",
       "            </tr><tr>\n",
       "                <td><strong>Objective expression</strong></td>\n",
       "                <td>0</td>\n",
       "            </tr><tr>\n",
       "                <td><strong>Compartments</strong></td>\n",
       "                <td>c</td>\n",
       "            </tr>\n",
       "          </table>"
      ],
      "text/plain": [
       "<Model Glycolysis_Ref_wo_Enzymes at 0x18df8c5e288>"
      ]
     },
     "execution_count": 3,
     "metadata": {},
     "output_type": "execute_result"
    }
   ],
   "source": [
    "model"
   ]
  },
  {
   "cell_type": "code",
   "execution_count": 12,
   "id": "a4c94efa-f388-4065-a711-0618d52b84d3",
   "metadata": {},
   "outputs": [
    {
     "ename": "TypeError",
     "evalue": "'Glycolysis_Ref_wo_Enzymes' is not a valid MassModel instance",
     "output_type": "error",
     "traceback": [
      "\u001b[1;31m---------------------------------------------------------------------------\u001b[0m",
      "\u001b[1;31mTypeError\u001b[0m                                 Traceback (most recent call last)",
      "\u001b[1;32m~\\AppData\\Local\\Temp\\ipykernel_56392\\2045325642.py\u001b[0m in \u001b[0;36m<module>\u001b[1;34m\u001b[0m\n\u001b[0;32m      1\u001b[0m \u001b[0mreference_model\u001b[0m \u001b[1;33m=\u001b[0m \u001b[0mmodel\u001b[0m\u001b[1;33m.\u001b[0m\u001b[0mcopy\u001b[0m\u001b[1;33m(\u001b[0m\u001b[1;33m)\u001b[0m\u001b[1;33m\u001b[0m\u001b[1;33m\u001b[0m\u001b[0m\n\u001b[0;32m      2\u001b[0m \u001b[0mreference_model\u001b[0m\u001b[1;33m.\u001b[0m\u001b[0mid\u001b[0m \u001b[1;33m=\u001b[0m \u001b[1;34m\"Glycolysis_Ref_wo_Enzymes\"\u001b[0m\u001b[1;33m\u001b[0m\u001b[1;33m\u001b[0m\u001b[0m\n\u001b[1;32m----> 3\u001b[1;33m \u001b[0msim\u001b[0m \u001b[1;33m=\u001b[0m \u001b[0mSimulation\u001b[0m\u001b[1;33m(\u001b[0m\u001b[0mreference_model\u001b[0m\u001b[1;33m)\u001b[0m\u001b[1;33m\u001b[0m\u001b[1;33m\u001b[0m\u001b[0m\n\u001b[0m\u001b[0;32m      4\u001b[0m \u001b[0msim\u001b[0m\u001b[1;33m.\u001b[0m\u001b[0mintegrator\u001b[0m\u001b[1;33m.\u001b[0m\u001b[0mabsolute_tolerance\u001b[0m \u001b[1;33m=\u001b[0m \u001b[1;36m1e-15\u001b[0m\u001b[1;33m\u001b[0m\u001b[1;33m\u001b[0m\u001b[0m\n\u001b[0;32m      5\u001b[0m \u001b[0msim\u001b[0m\u001b[1;33m.\u001b[0m\u001b[0mintegrator\u001b[0m\u001b[1;33m.\u001b[0m\u001b[0mrelative_tolerance\u001b[0m \u001b[1;33m=\u001b[0m \u001b[1;36m1e-9\u001b[0m\u001b[1;33m\u001b[0m\u001b[1;33m\u001b[0m\u001b[0m\n",
      "\u001b[1;32m~\\Anaconda3\\envs\\myenv\\lib\\site-packages\\mass\\simulation\\simulation.py\u001b[0m in \u001b[0;36m__init__\u001b[1;34m(self, reference_model, id, name, verbose, **kwargs)\u001b[0m\n\u001b[0;32m    174\u001b[0m         \u001b[1;32mif\u001b[0m \u001b[1;32mnot\u001b[0m \u001b[0misinstance\u001b[0m\u001b[1;33m(\u001b[0m\u001b[0mreference_model\u001b[0m\u001b[1;33m,\u001b[0m \u001b[0mMassModel\u001b[0m\u001b[1;33m)\u001b[0m\u001b[1;33m:\u001b[0m\u001b[1;33m\u001b[0m\u001b[1;33m\u001b[0m\u001b[0m\n\u001b[0;32m    175\u001b[0m             raise TypeError(\n\u001b[1;32m--> 176\u001b[1;33m                 \u001b[1;34m\"'{0}' is not a valid MassModel instance\"\u001b[0m\u001b[1;33m.\u001b[0m\u001b[0mformat\u001b[0m\u001b[1;33m(\u001b[0m\u001b[0mstr\u001b[0m\u001b[1;33m(\u001b[0m\u001b[0mreference_model\u001b[0m\u001b[1;33m)\u001b[0m\u001b[1;33m)\u001b[0m\u001b[1;33m\u001b[0m\u001b[1;33m\u001b[0m\u001b[0m\n\u001b[0m\u001b[0;32m    177\u001b[0m             )\n\u001b[0;32m    178\u001b[0m \u001b[1;33m\u001b[0m\u001b[0m\n",
      "\u001b[1;31mTypeError\u001b[0m: 'Glycolysis_Ref_wo_Enzymes' is not a valid MassModel instance"
     ]
    }
   ],
   "source": [
    "reference_model = model.copy()\n",
    "reference_model.id = \"Glycolysis_Ref_wo_Enzymes\"\n",
    "sim = Simulation(reference_model)\n",
    "sim.integrator.absolute_tolerance = 1e-15\n",
    "sim.integrator.relative_tolerance = 1e-9\n",
    "\n",
    "tfinal = 1e6\n",
    "conc_sol_orig, flux_sol_orig = sim.simulate(reference_model, time=(0, tfinal))\n",
    "conc_sol_orig.view_time_profile()"
   ]
  },
  {
   "cell_type": "code",
   "execution_count": null,
   "id": "12bbc3d8-c778-4290-968f-29d30cde46ea",
   "metadata": {},
   "outputs": [],
   "source": []
  }
 ],
 "metadata": {
  "kernelspec": {
   "display_name": "Python 3 (ipykernel)",
   "language": "python",
   "name": "python3"
  },
  "language_info": {
   "codemirror_mode": {
    "name": "ipython",
    "version": 3
   },
   "file_extension": ".py",
   "mimetype": "text/x-python",
   "name": "python",
   "nbconvert_exporter": "python",
   "pygments_lexer": "ipython3",
   "version": "3.7.16"
  }
 },
 "nbformat": 4,
 "nbformat_minor": 5
}
