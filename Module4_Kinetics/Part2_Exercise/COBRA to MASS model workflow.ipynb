{
 "cells": [
  {
   "cell_type": "markdown",
   "id": "667ad06b",
   "metadata": {},
   "source": [
    "# E. coli Glycolytic Network Construction\n",
    "## Growth Medium: Glucose\n",
    "Growth data obtained from the following sources: \n",
    "- Gerosa, Luca et al. “Pseudo-transition Analysis Identifies the Key Regulators of Dynamic Metabolic Adaptations from Steady-State Data.” Cell systems vol. 1,4 (2015): 270-82. doi:10.1016/j.cels.2015.09.008\n",
    "\n",
    "\n",
    "- Volkmer, Benjamin, and Matthias Heinemann. “Condition-dependent cell volume and concentration of Escherichia coli to facilitate data conversion for systems biology modeling.” PloS one vol. 6,7 (2011): e23126. doi:10.1371/journal.pone.0023126\n",
    "\n",
    "\n",
    "### Import packages"
   ]
  },
  {
   "cell_type": "code",
   "execution_count": 35,
   "id": "4266a31e",
   "metadata": {},
   "outputs": [
    {
     "name": "stdout",
     "output_type": "stream",
     "text": [
      "COBRApy version: 0.23.0\n",
      "MASSpy version: 0.1.7\n"
     ]
    }
   ],
   "source": [
    "# Disable gurobi logging output for this notebook.\n",
    "try:\n",
    "    import gurobipy\n",
    "    gurobipy.setParam(\"OutputFlag\", 0)\n",
    "except ImportError:\n",
    "    pass\n",
    "\n",
    "\n",
    "import numpy as np\n",
    "import pandas as pd\n",
    "import sympy as sym\n",
    "import matplotlib.pyplot as plt\n",
    "\n",
    "import cobra\n",
    "from cobra.io.json import load_json_model as load_cobra_json_model\n",
    "\n",
    "import mass\n",
    "from mass import MassConfiguration, MassModel, MassMetabolite, MassReaction, Simulation\n",
    "from mass.io.json import save_json_model as save_mass_json_model\n",
    "from mass.visualization import plot_comparison, plot_time_profile\n",
    "\n",
    "\n",
    "print(f\"COBRApy version: {cobra.__version__}\")\n",
    "print(f\"MASSpy version: {mass.__version__}\")"
   ]
  },
  {
   "cell_type": "markdown",
   "id": "980119c8",
   "metadata": {},
   "source": [
    "### Set solver"
   ]
  },
  {
   "cell_type": "code",
   "execution_count": 36,
   "id": "1c29c6a9",
   "metadata": {},
   "outputs": [],
   "source": [
    "MASSCONFIGURATION = MassConfiguration()\n",
    "MASSCONFIGURATION.solver = \"gurobi\""
   ]
  },
  {
   "cell_type": "markdown",
   "id": "1285d0bf",
   "metadata": {},
   "source": [
    "## Load COBRA model"
   ]
  },
  {
   "cell_type": "code",
   "execution_count": 37,
   "id": "f5753541",
   "metadata": {},
   "outputs": [],
   "source": [
    "cobra_model = load_cobra_json_model(f\"./models/cobra/iML1515.json\")"
   ]
  },
  {
   "cell_type": "markdown",
   "id": "4f79641a",
   "metadata": {},
   "source": [
    "## Obtain Flux State\n",
    "### Load growth data"
   ]
  },
  {
   "cell_type": "code",
   "execution_count": 38,
   "id": "bbac56eb",
   "metadata": {},
   "outputs": [
    {
     "data": {
      "text/html": [
       "<div>\n",
       "<style scoped>\n",
       "    .dataframe tbody tr th:only-of-type {\n",
       "        vertical-align: middle;\n",
       "    }\n",
       "\n",
       "    .dataframe tbody tr th {\n",
       "        vertical-align: top;\n",
       "    }\n",
       "\n",
       "    .dataframe thead th {\n",
       "        text-align: right;\n",
       "    }\n",
       "</style>\n",
       "<table border=\"1\" class=\"dataframe\">\n",
       "  <thead>\n",
       "    <tr style=\"text-align: right;\">\n",
       "      <th></th>\n",
       "      <th>Flux (mmol * gDW-1 * h-1)</th>\n",
       "    </tr>\n",
       "    <tr>\n",
       "      <th>ID</th>\n",
       "      <th></th>\n",
       "    </tr>\n",
       "  </thead>\n",
       "  <tbody>\n",
       "    <tr>\n",
       "      <th>EX_ac_e</th>\n",
       "      <td>6.827019e+00</td>\n",
       "    </tr>\n",
       "    <tr>\n",
       "      <th>ACt2rpp</th>\n",
       "      <td>-6.827019e+00</td>\n",
       "    </tr>\n",
       "    <tr>\n",
       "      <th>ACKr</th>\n",
       "      <td>-6.827019e+00</td>\n",
       "    </tr>\n",
       "    <tr>\n",
       "      <th>PTAr</th>\n",
       "      <td>6.827019e+00</td>\n",
       "    </tr>\n",
       "    <tr>\n",
       "      <th>ACS</th>\n",
       "      <td>0.000000e+00</td>\n",
       "    </tr>\n",
       "    <tr>\n",
       "      <th>...</th>\n",
       "      <td>...</td>\n",
       "    </tr>\n",
       "    <tr>\n",
       "      <th>ME1</th>\n",
       "      <td>-4.778621e-08</td>\n",
       "    </tr>\n",
       "    <tr>\n",
       "      <th>ME2</th>\n",
       "      <td>-4.778621e-08</td>\n",
       "    </tr>\n",
       "    <tr>\n",
       "      <th>ICL</th>\n",
       "      <td>9.654038e-10</td>\n",
       "    </tr>\n",
       "    <tr>\n",
       "      <th>MALS</th>\n",
       "      <td>9.654038e-10</td>\n",
       "    </tr>\n",
       "    <tr>\n",
       "      <th>BIOMASS_Ec_iML1515_core_75p37M</th>\n",
       "      <td>6.500000e-01</td>\n",
       "    </tr>\n",
       "  </tbody>\n",
       "</table>\n",
       "<p>68 rows × 1 columns</p>\n",
       "</div>"
      ],
      "text/plain": [
       "                                Flux (mmol * gDW-1 * h-1)\n",
       "ID                                                       \n",
       "EX_ac_e                                      6.827019e+00\n",
       "ACt2rpp                                     -6.827019e+00\n",
       "ACKr                                        -6.827019e+00\n",
       "PTAr                                         6.827019e+00\n",
       "ACS                                          0.000000e+00\n",
       "...                                                   ...\n",
       "ME1                                         -4.778621e-08\n",
       "ME2                                         -4.778621e-08\n",
       "ICL                                          9.654038e-10\n",
       "MALS                                         9.654038e-10\n",
       "BIOMASS_Ec_iML1515_core_75p37M               6.500000e-01\n",
       "\n",
       "[68 rows x 1 columns]"
      ]
     },
     "execution_count": 38,
     "metadata": {},
     "output_type": "execute_result"
    }
   ],
   "source": [
    "medium = \"Glucose\"\n",
    "\n",
    "flux_data = pd.read_excel(\n",
    "    io=\"./data/growth_data.xlsx\",\n",
    "    sheet_name=\"flux_data\",\n",
    "    index_col=0\n",
    ")\n",
    "flux_data = flux_data.loc[lambda x: x['Growth Medium'] == medium]\n",
    "flux_data = flux_data.drop(\"Growth Medium\", axis=1)\n",
    "flux_data"
   ]
  },
  {
   "cell_type": "markdown",
   "id": "dc0ce960",
   "metadata": {},
   "source": [
    "### Set bounds\n",
    "#### Growth rate and media"
   ]
  },
  {
   "cell_type": "code",
   "execution_count": 39,
   "id": "ebc5d155",
   "metadata": {},
   "outputs": [
    {
     "data": {
      "text/plain": [
       "(0.65, 0.65)"
      ]
     },
     "execution_count": 39,
     "metadata": {},
     "output_type": "execute_result"
    }
   ],
   "source": [
    "biomass_rxn = cobra_model.reactions.BIOMASS_Ec_iML1515_core_75p37M\n",
    "growth_rate = flux_data.loc[biomass_rxn.id][0]\n",
    "biomass_rxn.bounds = (growth_rate, growth_rate)\n",
    "biomass_rxn.bounds"
   ]
  },
  {
   "cell_type": "code",
   "execution_count": 40,
   "id": "efdd66be",
   "metadata": {},
   "outputs": [
    {
     "data": {
      "text/plain": [
       "(-9.654, -9.654)"
      ]
     },
     "execution_count": 40,
     "metadata": {},
     "output_type": "execute_result"
    }
   ],
   "source": [
    "EX_glc__D_e = cobra_model.reactions.EX_glc__D_e\n",
    "medium_uptake = flux_data.loc[EX_glc__D_e.id][0]\n",
    "EX_glc__D_e.bounds = (medium_uptake, medium_uptake)\n",
    "EX_glc__D_e.bounds"
   ]
  },
  {
   "cell_type": "markdown",
   "id": "ee5226dc",
   "metadata": {},
   "source": [
    "### Formulate QP minimization for fluxes"
   ]
  },
  {
   "cell_type": "code",
   "execution_count": 41,
   "id": "faa3375e",
   "metadata": {},
   "outputs": [
    {
     "name": "stdout",
     "output_type": "stream",
     "text": [
      "PFK 7.76432470140912\n",
      "FBP 0.7058477001281019\n",
      "PYK 2.7360389076214697\n",
      "PPS 0.24873080978377\n"
     ]
    },
    {
     "data": {
      "text/html": [
       "<strong><em>Optimal</em> solution with objective value -1075.383</strong><br><div>\n",
       "<style scoped>\n",
       "    .dataframe tbody tr th:only-of-type {\n",
       "        vertical-align: middle;\n",
       "    }\n",
       "\n",
       "    .dataframe tbody tr th {\n",
       "        vertical-align: top;\n",
       "    }\n",
       "\n",
       "    .dataframe thead th {\n",
       "        text-align: right;\n",
       "    }\n",
       "</style>\n",
       "<table border=\"1\" class=\"dataframe\">\n",
       "  <thead>\n",
       "    <tr style=\"text-align: right;\">\n",
       "      <th></th>\n",
       "      <th>fluxes</th>\n",
       "      <th>reduced_costs</th>\n",
       "    </tr>\n",
       "  </thead>\n",
       "  <tbody>\n",
       "    <tr>\n",
       "      <th>CYTDK2</th>\n",
       "      <td>0.000000</td>\n",
       "      <td>0.000000</td>\n",
       "    </tr>\n",
       "    <tr>\n",
       "      <th>XPPT</th>\n",
       "      <td>0.000000</td>\n",
       "      <td>0.000000</td>\n",
       "    </tr>\n",
       "    <tr>\n",
       "      <th>HXPRT</th>\n",
       "      <td>0.000000</td>\n",
       "      <td>0.090209</td>\n",
       "    </tr>\n",
       "    <tr>\n",
       "      <th>NDPK5</th>\n",
       "      <td>0.017561</td>\n",
       "      <td>0.000000</td>\n",
       "    </tr>\n",
       "    <tr>\n",
       "      <th>SHK3Dr</th>\n",
       "      <td>0.247727</td>\n",
       "      <td>0.000000</td>\n",
       "    </tr>\n",
       "    <tr>\n",
       "      <th>...</th>\n",
       "      <td>...</td>\n",
       "      <td>...</td>\n",
       "    </tr>\n",
       "    <tr>\n",
       "      <th>MPTS</th>\n",
       "      <td>0.000000</td>\n",
       "      <td>0.000000</td>\n",
       "    </tr>\n",
       "    <tr>\n",
       "      <th>MOCOS</th>\n",
       "      <td>0.000000</td>\n",
       "      <td>0.000000</td>\n",
       "    </tr>\n",
       "    <tr>\n",
       "      <th>BMOGDS2</th>\n",
       "      <td>0.000000</td>\n",
       "      <td>0.000000</td>\n",
       "    </tr>\n",
       "    <tr>\n",
       "      <th>FESD2s</th>\n",
       "      <td>0.000000</td>\n",
       "      <td>0.000000</td>\n",
       "    </tr>\n",
       "    <tr>\n",
       "      <th>OCTNLL</th>\n",
       "      <td>0.000000</td>\n",
       "      <td>0.000000</td>\n",
       "    </tr>\n",
       "  </tbody>\n",
       "</table>\n",
       "<p>2712 rows × 2 columns</p>\n",
       "</div>"
      ],
      "text/plain": [
       "<Solution -1075.383 at 0x20ec602f848>"
      ]
     },
     "execution_count": 41,
     "metadata": {},
     "output_type": "execute_result"
    }
   ],
   "source": [
    "v_vars = []\n",
    "v_data = []\n",
    "\n",
    "# For irreversible enzyme pairs, flux data is given as Enzyme1 - Enzyme2 = value.\n",
    "# To ensure all enzymes have some flux, add a percentage of the net flux for each enzyme\n",
    "# The netflux will still remain the same value.\n",
    "reverse_flux_percent = 0.1\n",
    "\n",
    "irreversible_enzyme_pairs = [[\"PFK\", \"FBP\"], [\"PYK\", \"PPS\"]]\n",
    "\n",
    "\n",
    "for rid, flux in flux_data.itertuples():\n",
    "    # Make adjustments to net flux of PFK/FBP and PYK/PPS to ensure\n",
    "    # no target flux value is 0 in order to create an enzyme module.\n",
    "    for irreversible_enzyme_pair in irreversible_enzyme_pairs:\n",
    "        if rid in irreversible_enzyme_pair:\n",
    "            flux1, flux2 = flux_data.loc[irreversible_enzyme_pair, \"Flux (mmol * gDW-1 * h-1)\"].values\n",
    "            if flux1 == 0:\n",
    "                flux += reverse_flux_percent * flux2 # mmol*gDW^-1*hr^-1\n",
    "            if flux2 == 0:\n",
    "                flux += reverse_flux_percent * flux1 # mmol*gDW^-1*hr^-1\n",
    "            print(rid, flux)\n",
    "    v_vars.append(sym.Symbol(rid))\n",
    "    v_data.append(flux)\n",
    "\n",
    "# Make symbolic for optlang objective \n",
    "v_vars = sym.Matrix(v_vars)\n",
    "v_data = sym.Matrix(v_data)\n",
    "F = sym.Matrix(2 * sym.eye(len(v_vars)))\n",
    "\n",
    "objective = 0.5 * v_vars.T * F * v_vars  - (2 * v_data).T * v_vars\n",
    "cobra_model.objective = objective[0]\n",
    "cobra_model.objective_direction = \"min\"\n",
    "\n",
    "flux_solution = cobra_model.optimize()\n",
    "flux_solution"
   ]
  },
  {
   "cell_type": "code",
   "execution_count": 42,
   "id": "233e8959",
   "metadata": {},
   "outputs": [
    {
     "data": {
      "image/png": "[encoded data removed]",
      "text/plain": [
       "<Figure size 500x500 with 1 Axes>"
      ]
     },
     "metadata": {},
     "output_type": "display_data"
    }
   ],
   "source": [
    "flux_comparison_fig, ax = plt.subplots(nrows=1, ncols=1, figsize=(5, 5))\n",
    "plot_comparison(\n",
    "    x=flux_data[\"Flux (mmol * gDW-1 * h-1)\"], y=flux_solution, compare=\"fluxes\",\n",
    "    observable=[rid for rid in flux_data.index], ax=ax,\n",
    "    legend=\"right outside\", plot_function=\"plot\",\n",
    "    xlim=(-16.5, 16.5), ylim=(-16.5, 16.5),\n",
    "    xy_line=True,\n",
    "    xy_legend=\"best\", xlabel=\"Measured [mmol/(gDW * h)]\", ylabel=\"Adjusted [mmol/(gDW * h)]\")\n",
    "\n",
    "flux_comparison_fig.tight_layout()"
   ]
  },
  {
   "cell_type": "markdown",
   "id": "1bfd5f71",
   "metadata": {},
   "source": [
    "#### Export data for analysis"
   ]
  },
  {
   "cell_type": "code",
   "execution_count": 43,
   "id": "029d73d7",
   "metadata": {},
   "outputs": [],
   "source": [
    "flux_data_for_comparison = pd.concat(objs=(flux_data, flux_solution.fluxes), axis=1).dropna()\n",
    "flux_data_for_comparison.index.name = \"ID\"\n",
    "flux_data_for_comparison.columns = [\"Initial\", \"Adjusted\"]\n",
    "flux_data_for_comparison.to_csv(\"./data/analysis_data/fluxes.csv\")"
   ]
  },
  {
   "cell_type": "code",
   "execution_count": 46,
   "id": "5c0b56b7-65cc-4ac7-8c7a-0f28eb0f6521",
   "metadata": {},
   "outputs": [
    {
     "data": {
      "text/latex": [
       "$\\displaystyle 1.0 ACKr^{2} + 13.654038359994 ACKr + 1.0 ACONTa^{2} - 5.95594257568859 ACONTa + 1.0 ACONTb^{2} - 5.95594257568859 ACONTb + 1.0 ACS^{2} + 1.0 ACt2rpp^{2} + 13.654038359994 ACt2rpp + 1.0 AKGDH^{2} - 4.27614657375422 AKGDH + 1.0 BIOMASS_{Ec iML1515 core 75p37M}^{2} - 1.3 BIOMASS_{Ec iML1515 core 75p37M} + 1.0 CS^{2} - 5.95594257568859 CS + 1.0 D_{LACt2pp}^{2} + 1.0 EDA^{2} - 2.17398211925436 EDA + 1.0 EDD^{2} - 2.17398211925436 EDD + 1.0 ENO^{2} - 29.1154084025788 ENO + 1.0 EX_{ac e}^{2} - 13.654038359994 EX_{ac e} + 1.0 EX_{fru e}^{2} + 1.0 EX_{fum e}^{2} - 1.93074646400088 \\cdot 10^{-7} EX_{fum e} + 1.0 EX_{gal e}^{2} + 1.0 \\left(EX^{D}_{glc e}\\right)^{2} + 19.308 EX^{D}_{glc e} + 1.0 EX_{glcn e}^{2} + 1.0 EX_{glyc e}^{2} + 1.0 \\left(EX^{D}_{lac e}\\right)^{2} + 1.0 EX_{pyr e}^{2} + 1.0 EX_{succ e}^{2} + 1.0 FBA^{2} - 14.1169540025611 FBA + 1.0 FBP^{2} - 1.4116954002562 FBP + 1.0 FRUK^{2} + 1.0 FRUpts2pp^{2} + 1.0 FUM^{2} - 4.27614657569632 FUM + 1.0 G3PD5^{2} + 1.0 G6PDH2r^{2} - 7.83855055385713 G6PDH2r + 1.0 GALKr^{2} + 1.0 GALabcpp^{2} + 1.0 GAPD^{2} - 31.420783602583 GAPD + 1.0 GLCNt2rpp^{2} + 1.0 GLCt2pp^{2} - 19.308 GLCt2pp + 1.0 GLYCK^{2} + 1.0 GLYCtpp^{2} + 1.0 GND^{2} - 5.66456843460277 GND + 1.0 GNK^{2} + 1.0 ICDHyr^{2} - 5.95594257375515 ICDHyr + 1.0 ICL^{2} - 1.93080767671105 \\cdot 10^{-9} ICL + 1.0 LDH_{D}^{2} + 1.0 MALS^{2} - 1.93080767671105 \\cdot 10^{-9} MALS + 1.0 MDH^{2} - 2.13807338438951 MDH + 1.0 MDH_{2}^{2} - 2.13807338438951 MDH_{2} + 1.0 ME_{1}^{2} + 9.55724246626087 \\cdot 10^{-8} ME_{1} + 1.0 ME_{2}^{2} + 9.55724246626087 \\cdot 10^{-8} ME_{2} + 1.0 PDH^{2} - 22.5969285376165 PDH + 1.0 PFK^{2} - 15.5286494028182 PFK + 1.0 PGI^{2} - 11.3999406461378 PGI + 1.0 PGK^{2} + 31.420783602583 PGK + 1.0 PGL^{2} - 7.83855055385713 PGL + 1.0 PGM^{2} + 29.1154084025788 PGM + 1.0 PGMT^{2} + 1.0 PPC^{2} - 4.90666265849977 PPC + 1.0 PPCK^{2} - 1.08174805158848 PPCK + 1.0 PPS^{2} - 0.49746161956754 PPS + 1.0 PTAr^{2} - 13.654038359994 PTAr + 1.0 PYK^{2} - 5.47207781524294 PYK + 1.0 PYRt2rpp^{2} + 1.0 RPE^{2} - 2.80969175640947 RPE + 1.0 RPI^{2} + 2.8548766781933 RPI + 1.0 SUCDi^{2} - 4.27614657569632 SUCDi + 1.0 SUCOAS^{2} + 4.27614657375422 SUCOAS + 1.0 TALA^{2} + 1.64040347820728 TALA + 1.0 TKT_{1}^{2} - 1.64040347820728 TKT_{1} + 1.0 TKT_{2}^{2} - 1.16928827820219 TKT_{2} + 1.0 TPI^{2} - 14.11695400256 TPI + 1.0 UGLT^{2}$"
      ],
      "text/plain": [
       "1.0*ACKr**2 + 13.654038359994*ACKr + 1.0*ACONTa**2 - 5.95594257568859*ACONTa + 1.0*ACONTb**2 - 5.95594257568859*ACONTb + 1.0*ACS**2 + 1.0*ACt2rpp**2 + 13.654038359994*ACt2rpp + 1.0*AKGDH**2 - 4.27614657375422*AKGDH + 1.0*BIOMASS_Ec_iML1515_core_75p37M**2 - 1.3*BIOMASS_Ec_iML1515_core_75p37M + 1.0*CS**2 - 5.95594257568859*CS + 1.0*D_LACt2pp**2 + 1.0*EDA**2 - 2.17398211925436*EDA + 1.0*EDD**2 - 2.17398211925436*EDD + 1.0*ENO**2 - 29.1154084025788*ENO + 1.0*EX_ac_e**2 - 13.654038359994*EX_ac_e + 1.0*EX_fru_e**2 + 1.0*EX_fum_e**2 - 1.93074646400088e-7*EX_fum_e + 1.0*EX_gal_e**2 + 1.0*EX_glc__D_e**2 + 19.308*EX_glc__D_e + 1.0*EX_glcn_e**2 + 1.0*EX_glyc_e**2 + 1.0*EX_lac__D_e**2 + 1.0*EX_pyr_e**2 + 1.0*EX_succ_e**2 + 1.0*FBA**2 - 14.1169540025611*FBA + 1.0*FBP**2 - 1.4116954002562*FBP + 1.0*FRUK**2 + 1.0*FRUpts2pp**2 + 1.0*FUM**2 - 4.27614657569632*FUM + 1.0*G3PD5**2 + 1.0*G6PDH2r**2 - 7.83855055385713*G6PDH2r + 1.0*GALKr**2 + 1.0*GALabcpp**2 + 1.0*GAPD**2 - 31.420783602583*GAPD + 1.0*GLCNt2rpp**2 + 1.0*GLCt2pp**2 - 19.308*GLCt2pp + 1.0*GLYCK**2 + 1.0*GLYCtpp**2 + 1.0*GND**2 - 5.66456843460277*GND + 1.0*GNK**2 + 1.0*ICDHyr**2 - 5.95594257375515*ICDHyr + 1.0*ICL**2 - 1.93080767671105e-9*ICL + 1.0*LDH_D**2 + 1.0*MALS**2 - 1.93080767671105e-9*MALS + 1.0*MDH**2 - 2.13807338438951*MDH + 1.0*MDH2**2 - 2.13807338438951*MDH2 + 1.0*ME1**2 + 9.55724246626087e-8*ME1 + 1.0*ME2**2 + 9.55724246626087e-8*ME2 + 1.0*PDH**2 - 22.5969285376165*PDH + 1.0*PFK**2 - 15.5286494028182*PFK + 1.0*PGI**2 - 11.3999406461378*PGI + 1.0*PGK**2 + 31.420783602583*PGK + 1.0*PGL**2 - 7.83855055385713*PGL + 1.0*PGM**2 + 29.1154084025788*PGM + 1.0*PGMT**2 + 1.0*PPC**2 - 4.90666265849977*PPC + 1.0*PPCK**2 - 1.08174805158848*PPCK + 1.0*PPS**2 - 0.49746161956754*PPS + 1.0*PTAr**2 - 13.654038359994*PTAr + 1.0*PYK**2 - 5.47207781524294*PYK + 1.0*PYRt2rpp**2 + 1.0*RPE**2 - 2.80969175640947*RPE + 1.0*RPI**2 + 2.8548766781933*RPI + 1.0*SUCDi**2 - 4.27614657569632*SUCDi + 1.0*SUCOAS**2 + 4.27614657375422*SUCOAS + 1.0*TALA**2 + 1.64040347820728*TALA + 1.0*TKT1**2 - 1.64040347820728*TKT1 + 1.0*TKT2**2 - 1.16928827820219*TKT2 + 1.0*TPI**2 - 14.11695400256*TPI + 1.0*UGLT**2"
      ]
     },
     "execution_count": 46,
     "metadata": {},
     "output_type": "execute_result"
    }
   ],
   "source": [
    "cobra_model.objective.expression"
   ]
  },
  {
   "cell_type": "markdown",
   "id": "5781c9ef",
   "metadata": {},
   "source": [
    "## Create MASS Model"
   ]
  },
  {
   "cell_type": "code",
   "execution_count": 47,
   "id": "599ec30c",
   "metadata": {},
   "outputs": [
    {
     "data": {
      "text/html": [
       "\n",
       "            <table>\n",
       "                <tr>\n",
       "                    <td><strong>Name</strong></td><td>Glycolysis</td>\n",
       "                </tr><tr>\n",
       "                    <td><strong>Memory address</strong></td><td>0x020eb4cf1e08</td>\n",
       "                </tr><tr>\n",
       "                    <td><strong>Stoichiometric Matrix</strong></td>\n",
       "                    <td>19x12</td>\n",
       "                </tr><tr>\n",
       "                    <td><strong>Matrix Rank</strong></td>\n",
       "                    <td>12</td>\n",
       "                </tr><tr>\n",
       "                    <td><strong>Number of metabolites</strong></td>\n",
       "                    <td>19</td>\n",
       "                </tr><tr>\n",
       "                    <td><strong>Initial conditions defined</strong></td>\n",
       "                    <td>0/19</td>\n",
       "                </tr><tr>\n",
       "                    <td><strong>Number of reactions</strong></td>\n",
       "                    <td>12</td>\n",
       "                </tr><tr>\n",
       "                    <td><strong>Number of genes</strong></td>\n",
       "                    <td>12</td>\n",
       "                </tr><tr>\n",
       "                    <td><strong>Number of enzyme modules</strong></td>\n",
       "                    <td>0</td>\n",
       "                </tr><tr>\n",
       "                    <td><strong>Number of groups</strong></td>\n",
       "                    <td>0</td>\n",
       "                </tr><tr>\n",
       "                    <td><strong>Objective expression</strong></td>\n",
       "                    <td>0</td>\n",
       "                </tr><tr>\n",
       "                    <td><strong>Compartments</strong></td>\n",
       "                    <td>c</td>\n",
       "                </tr>\n",
       "            </table>\n",
       "        "
      ],
      "text/plain": [
       "<MassModel Glycolysis at 0x20eb4cf1e08>"
      ]
     },
     "execution_count": 47,
     "metadata": {},
     "output_type": "execute_result"
    }
   ],
   "source": [
    "# Create MassModel\n",
    "mass_model = MassModel(\"Glycolysis\", array_type=\"DataFrame\")\n",
    "\n",
    "# Reactions to extract into subnetwork\n",
    "reaction_list = [\n",
    "    \"PGI\", \n",
    "    \"PFK\", \n",
    "    \"FBP\", \n",
    "    \"FBA\", \n",
    "    \"TPI\", \n",
    "    \"GAPD\",\n",
    "    \"PGK\", \n",
    "    \"PGM\", \n",
    "    \"ENO\", \n",
    "    \"PYK\", \n",
    "    \"PPS\", \n",
    "    \"LDH_D\",\n",
    "]\n",
    "\n",
    "\n",
    "cobra_reactions = cobra_model.reactions.get_by_any(reaction_list)\n",
    "mass_model.add_reactions([MassReaction(rxn) for rxn in cobra_reactions])\n",
    "mass_model"
   ]
  },
  {
   "cell_type": "code",
   "execution_count": 49,
   "id": "4d138169-e0e3-445b-afdc-85c0fece5340",
   "metadata": {},
   "outputs": [
    {
     "data": {
      "text/plain": [
       "[<MassMetabolite f6p_c at 0x20eb4d21a88>,\n",
       " <MassMetabolite g6p_c at 0x20eb4cc4d48>,\n",
       " <MassMetabolite adp_c at 0x20eb4d24d88>,\n",
       " <MassMetabolite atp_c at 0x20eb4d24988>,\n",
       " <MassMetabolite fdp_c at 0x20eb4d24288>,\n",
       " <MassMetabolite h_c at 0x20eb4ce7a48>,\n",
       " <MassMetabolite h2o_c at 0x20eb4cd3f88>,\n",
       " <MassMetabolite pi_c at 0x20eb4d62a48>,\n",
       " <MassMetabolite dhap_c at 0x20eb4d4e9c8>,\n",
       " <MassMetabolite g3p_c at 0x20eb4d3f8c8>,\n",
       " <MassMetabolite 13dpg_c at 0x20ec5450508>,\n",
       " <MassMetabolite nad_c at 0x20ec5208a88>,\n",
       " <MassMetabolite nadh_c at 0x20ec5208808>,\n",
       " <MassMetabolite 3pg_c at 0x20ec5440348>,\n",
       " <MassMetabolite 2pg_c at 0x20ec54e2248>,\n",
       " <MassMetabolite pep_c at 0x20ec5235948>,\n",
       " <MassMetabolite pyr_c at 0x20ec5235f08>,\n",
       " <MassMetabolite amp_c at 0x20ec5251348>,\n",
       " <MassMetabolite lac__D_c at 0x20ec52518c8>]"
      ]
     },
     "execution_count": 49,
     "metadata": {},
     "output_type": "execute_result"
    }
   ],
   "source": [
    "mass_model.metabolites"
   ]
  },
  {
   "cell_type": "markdown",
   "id": "eb45fa92",
   "metadata": {},
   "source": [
    "### Convert flux units to M/s"
   ]
  },
  {
   "cell_type": "code",
   "execution_count": 11,
   "id": "90db5886",
   "metadata": {},
   "outputs": [],
   "source": [
    "T = 313.15\n",
    "gas_constant = 0.008314\n",
    "e_coli_density = 1.1 # g / mL assumption\n",
    "volume = 3.2  # femtoliter\n",
    "\n",
    "# Perform conversions\n",
    "doubling_time_per_minute = np.log(2) / growth_rate * 60\n",
    "cell_gDW = 42000 * doubling_time_per_minute**-1.232 * 1e-15\n",
    "real_cell_total_weight = e_coli_density * (volume * 1e-12) # fL --> mL\n",
    "\n",
    "# Assume water is 70%\n",
    "adj_volume = volume * 0.7\n",
    "gDW_L_conversion_factor = real_cell_total_weight / (adj_volume * 1e-15)\n",
    "\n",
    "for reaction in mass_model.reactions.get_by_any(reaction_list):\n",
    "    flux = flux_solution[reaction.id]\n",
    "    reaction.steady_state_flux = flux * gDW_L_conversion_factor * 0.001 / 3600 "
   ]
  },
  {
   "cell_type": "markdown",
   "id": "a40e6c58",
   "metadata": {},
   "source": [
    "## Set equilibrium constants"
   ]
  },
  {
   "cell_type": "code",
   "execution_count": 12,
   "id": "bbfe642a",
   "metadata": {},
   "outputs": [],
   "source": [
    "Keq_data = pd.read_excel(\n",
    "    io=\"./data/growth_data.xlsx\",\n",
    "    sheet_name=\"Keq_data\",\n",
    "    index_col=0\n",
    ")\n",
    "for reaction in mass_model.reactions.get_by_any(reaction_list):\n",
    "    reaction.Keq = Keq_data.loc[reaction.Keq_str][0]"
   ]
  },
  {
   "cell_type": "code",
   "execution_count": 13,
   "id": "d02fac52",
   "metadata": {},
   "outputs": [
    {
     "data": {
      "text/html": [
       "<div>\n",
       "<style scoped>\n",
       "    .dataframe tbody tr th:only-of-type {\n",
       "        vertical-align: middle;\n",
       "    }\n",
       "\n",
       "    .dataframe tbody tr th {\n",
       "        vertical-align: top;\n",
       "    }\n",
       "\n",
       "    .dataframe thead th {\n",
       "        text-align: right;\n",
       "    }\n",
       "</style>\n",
       "<table border=\"1\" class=\"dataframe\">\n",
       "  <thead>\n",
       "    <tr style=\"text-align: right;\">\n",
       "      <th></th>\n",
       "      <th>Concentration (mol * L-1)</th>\n",
       "    </tr>\n",
       "    <tr>\n",
       "      <th>ID</th>\n",
       "      <th></th>\n",
       "    </tr>\n",
       "  </thead>\n",
       "  <tbody>\n",
       "    <tr>\n",
       "      <th>adp_c</th>\n",
       "      <td>0.002185</td>\n",
       "    </tr>\n",
       "    <tr>\n",
       "      <th>amp_c</th>\n",
       "      <td>0.001743</td>\n",
       "    </tr>\n",
       "    <tr>\n",
       "      <th>atp_c</th>\n",
       "      <td>0.012466</td>\n",
       "    </tr>\n",
       "    <tr>\n",
       "      <th>nad_c</th>\n",
       "      <td>0.007636</td>\n",
       "    </tr>\n",
       "    <tr>\n",
       "      <th>nadh_c</th>\n",
       "      <td>0.000099</td>\n",
       "    </tr>\n",
       "    <tr>\n",
       "      <th>13dpg_c</th>\n",
       "      <td>0.000184</td>\n",
       "    </tr>\n",
       "    <tr>\n",
       "      <th>f6p_c</th>\n",
       "      <td>0.001214</td>\n",
       "    </tr>\n",
       "    <tr>\n",
       "      <th>dhap_c</th>\n",
       "      <td>0.004772</td>\n",
       "    </tr>\n",
       "    <tr>\n",
       "      <th>g6p_c</th>\n",
       "      <td>0.003431</td>\n",
       "    </tr>\n",
       "    <tr>\n",
       "      <th>pep_c</th>\n",
       "      <td>0.001276</td>\n",
       "    </tr>\n",
       "    <tr>\n",
       "      <th>pyr_c</th>\n",
       "      <td>0.005079</td>\n",
       "    </tr>\n",
       "    <tr>\n",
       "      <th>2pg_c</th>\n",
       "      <td>0.002876</td>\n",
       "    </tr>\n",
       "    <tr>\n",
       "      <th>3pg_c</th>\n",
       "      <td>0.002876</td>\n",
       "    </tr>\n",
       "    <tr>\n",
       "      <th>fdp_c</th>\n",
       "      <td>0.004196</td>\n",
       "    </tr>\n",
       "    <tr>\n",
       "      <th>gdp_c</th>\n",
       "      <td>0.001206</td>\n",
       "    </tr>\n",
       "  </tbody>\n",
       "</table>\n",
       "</div>"
      ],
      "text/plain": [
       "         Concentration (mol * L-1)\n",
       "ID                                \n",
       "adp_c                     0.002185\n",
       "amp_c                     0.001743\n",
       "atp_c                     0.012466\n",
       "nad_c                     0.007636\n",
       "nadh_c                    0.000099\n",
       "13dpg_c                   0.000184\n",
       "f6p_c                     0.001214\n",
       "dhap_c                    0.004772\n",
       "g6p_c                     0.003431\n",
       "pep_c                     0.001276\n",
       "pyr_c                     0.005079\n",
       "2pg_c                     0.002876\n",
       "3pg_c                     0.002876\n",
       "fdp_c                     0.004196\n",
       "gdp_c                     0.001206"
      ]
     },
     "execution_count": 13,
     "metadata": {},
     "output_type": "execute_result"
    }
   ],
   "source": [
    "conc_data = pd.read_excel(\n",
    "    io=\"./data/growth_data.xlsx\",\n",
    "    sheet_name=\"conc_data\",\n",
    "    index_col=0\n",
    ")\n",
    "conc_data = conc_data.loc[lambda x: x['Growth Medium'] == \"Glucose\"]\n",
    "conc_data = conc_data.drop(\"Growth Medium\", axis=1)\n",
    "conc_data"
   ]
  },
  {
   "cell_type": "markdown",
   "id": "171de107",
   "metadata": {},
   "source": [
    "### Add PFK1 activator GDP"
   ]
  },
  {
   "cell_type": "code",
   "execution_count": 14,
   "id": "1c3656f1",
   "metadata": {},
   "outputs": [],
   "source": [
    "gdp_c = MassMetabolite(cobra_model.metabolites.gdp_c)\n",
    "# Set the activator as a constant\n",
    "gdp_c.fixed = True\n",
    "\n",
    "mass_model.add_metabolites(gdp_c)"
   ]
  },
  {
   "cell_type": "markdown",
   "id": "81dfa11d",
   "metadata": {},
   "source": [
    "### Set initial concentrations from growth data"
   ]
  },
  {
   "cell_type": "code",
   "execution_count": 15,
   "id": "4ea4a4d8",
   "metadata": {},
   "outputs": [
    {
     "name": "stdout",
     "output_type": "stream",
     "text": [
      "[<MassMetabolite pi_c at 0x20eb55209c8>, <MassMetabolite g3p_c at 0x20eb586e9c8>, <MassMetabolite lac__D_c at 0x20eb5509248>]\n"
     ]
    }
   ],
   "source": [
    "mass_model.update_initial_conditions({\n",
    "    mid: value for mid, value in conc_data.itertuples()\n",
    "})\n",
    "\n",
    "# Fix hydrogen and water as constants and set concentration to 1.\n",
    "for metabolite in mass_model.metabolites.get_by_any([\"h2o_c\", \"h_c\"]):\n",
    "    metabolite.fixed = True\n",
    "    metabolite.initial_condition = 1\n",
    "\n",
    "missing_ics = mass_model.metabolites.query(lambda m: m.initial_condition is None)\n",
    "# Provide initial guesses for missing metabolites (pi_c, g3p_c, and lac__D_c)\n",
    "print(missing_ics)\n",
    "for metabolite in missing_ics:\n",
    "    metabolite.initial_condition = 0.001"
   ]
  },
  {
   "cell_type": "markdown",
   "id": "da3a107c",
   "metadata": {},
   "source": [
    "### Formulate QP minimization for concentrations"
   ]
  },
  {
   "cell_type": "code",
   "execution_count": 16,
   "id": "f223e858",
   "metadata": {},
   "outputs": [],
   "source": [
    "from mass.thermo import (\n",
    "    ConcSolver, sample_concentrations,\n",
    "    update_model_with_concentration_solution)"
   ]
  },
  {
   "cell_type": "code",
   "execution_count": 17,
   "id": "3cbe3d35",
   "metadata": {},
   "outputs": [
    {
     "data": {
      "text/html": [
       "<strong><em>Optimal</em> solution with objective value 0.000</strong><br><div>\n",
       "<style scoped>\n",
       "    .dataframe tbody tr th:only-of-type {\n",
       "        vertical-align: middle;\n",
       "    }\n",
       "\n",
       "    .dataframe tbody tr th {\n",
       "        vertical-align: top;\n",
       "    }\n",
       "\n",
       "    .dataframe thead th {\n",
       "        text-align: right;\n",
       "    }\n",
       "</style>\n",
       "<table border=\"1\" class=\"dataframe\">\n",
       "  <thead>\n",
       "    <tr style=\"text-align: right;\">\n",
       "      <th></th>\n",
       "      <th>variables</th>\n",
       "      <th>reduced_costs</th>\n",
       "    </tr>\n",
       "  </thead>\n",
       "  <tbody>\n",
       "    <tr>\n",
       "      <th>f6p_c</th>\n",
       "      <td>0.001711</td>\n",
       "      <td>0.0</td>\n",
       "    </tr>\n",
       "    <tr>\n",
       "      <th>g6p_c</th>\n",
       "      <td>0.002435</td>\n",
       "      <td>0.0</td>\n",
       "    </tr>\n",
       "    <tr>\n",
       "      <th>adp_c</th>\n",
       "      <td>0.002185</td>\n",
       "      <td>0.0</td>\n",
       "    </tr>\n",
       "    <tr>\n",
       "      <th>atp_c</th>\n",
       "      <td>0.012466</td>\n",
       "      <td>0.0</td>\n",
       "    </tr>\n",
       "    <tr>\n",
       "      <th>fdp_c</th>\n",
       "      <td>0.009390</td>\n",
       "      <td>0.0</td>\n",
       "    </tr>\n",
       "    <tr>\n",
       "      <th>...</th>\n",
       "      <td>...</td>\n",
       "      <td>...</td>\n",
       "    </tr>\n",
       "    <tr>\n",
       "      <th>Keq_PGM</th>\n",
       "      <td>2.178140</td>\n",
       "      <td>0.0</td>\n",
       "    </tr>\n",
       "    <tr>\n",
       "      <th>Keq_ENO</th>\n",
       "      <td>5.190000</td>\n",
       "      <td>0.0</td>\n",
       "    </tr>\n",
       "    <tr>\n",
       "      <th>Keq_PYK</th>\n",
       "      <td>21739.130400</td>\n",
       "      <td>0.0</td>\n",
       "    </tr>\n",
       "    <tr>\n",
       "      <th>Keq_PPS</th>\n",
       "      <td>2.410000</td>\n",
       "      <td>0.0</td>\n",
       "    </tr>\n",
       "    <tr>\n",
       "      <th>Keq_LDH_D</th>\n",
       "      <td>0.000240</td>\n",
       "      <td>0.0</td>\n",
       "    </tr>\n",
       "  </tbody>\n",
       "</table>\n",
       "<p>30 rows × 2 columns</p>\n",
       "</div>"
      ],
      "text/plain": [
       "<Solution 0.000 at 0x20eb53af188>"
      ]
     },
     "execution_count": 17,
     "metadata": {},
     "output_type": "execute_result"
    }
   ],
   "source": [
    "conc_solver = ConcSolver(\n",
    "    mass_model,\n",
    "    excluded_metabolites=[\"h_c\", \"h2o_c\"],\n",
    "    constraint_buffer=1,\n",
    "    equilibrium_reactions=[x.id for x in mass_model.reactions if x.steady_state_flux == 0]\n",
    "\n",
    ")\n",
    "\n",
    "conc_solver.setup_feasible_qp_problem(\n",
    "    fixed_conc_bounds=list(mass_model.fixed),\n",
    ")\n",
    "\n",
    "conc_solution = conc_solver.optimize()\n",
    "conc_solution"
   ]
  },
  {
   "cell_type": "code",
   "execution_count": 18,
   "id": "361ad15a",
   "metadata": {},
   "outputs": [
    {
     "data": {
      "image/png": "[encoded data removed]",
      "text/plain": [
       "<Figure size 500x500 with 1 Axes>"
      ]
     },
     "metadata": {},
     "output_type": "display_data"
    }
   ],
   "source": [
    "conc_comparison_fig, ax = plt.subplots(nrows=1, ncols=1,\n",
    "                                       figsize=(5, 5))\n",
    "\n",
    "plot_comparison(\n",
    "    x=conc_data[\"Concentration (mol * L-1)\"], y=conc_solution,\n",
    "    compare=\"concentrations\",\n",
    "    observable=[mid for mid in conc_data.index], ax=ax,\n",
    "    legend=\"right outside\", plot_function=\"loglog\",\n",
    "    xlim=(1e-5, 1e-1), ylim=(1e-5, 1e-1), xy_line=True,\n",
    "    xy_legend=\"best\", xlabel=\"Initial [mol/L]\", ylabel=\"Adjusted [mol/L]\")\n",
    "\n",
    "conc_comparison_fig.tight_layout()\n",
    "update_model_with_concentration_solution(\n",
    "    mass_model, conc_solution, concentrations=True, Keqs=True, inplace=True);"
   ]
  },
  {
   "cell_type": "markdown",
   "id": "3ee1f13f",
   "metadata": {},
   "source": [
    "#### Export data for analysis"
   ]
  },
  {
   "cell_type": "code",
   "execution_count": 19,
   "id": "f00eae43",
   "metadata": {},
   "outputs": [
    {
     "data": {
      "text/html": [
       "<div>\n",
       "<style scoped>\n",
       "    .dataframe tbody tr th:only-of-type {\n",
       "        vertical-align: middle;\n",
       "    }\n",
       "\n",
       "    .dataframe tbody tr th {\n",
       "        vertical-align: top;\n",
       "    }\n",
       "\n",
       "    .dataframe thead th {\n",
       "        text-align: right;\n",
       "    }\n",
       "</style>\n",
       "<table border=\"1\" class=\"dataframe\">\n",
       "  <thead>\n",
       "    <tr style=\"text-align: right;\">\n",
       "      <th></th>\n",
       "      <th>Initial</th>\n",
       "      <th>Adjusted</th>\n",
       "    </tr>\n",
       "    <tr>\n",
       "      <th>ID</th>\n",
       "      <th></th>\n",
       "      <th></th>\n",
       "    </tr>\n",
       "  </thead>\n",
       "  <tbody>\n",
       "    <tr>\n",
       "      <th>adp_c</th>\n",
       "      <td>0.002185</td>\n",
       "      <td>0.002185</td>\n",
       "    </tr>\n",
       "    <tr>\n",
       "      <th>amp_c</th>\n",
       "      <td>0.001743</td>\n",
       "      <td>0.001743</td>\n",
       "    </tr>\n",
       "    <tr>\n",
       "      <th>atp_c</th>\n",
       "      <td>0.012466</td>\n",
       "      <td>0.012466</td>\n",
       "    </tr>\n",
       "    <tr>\n",
       "      <th>nad_c</th>\n",
       "      <td>0.007636</td>\n",
       "      <td>0.035436</td>\n",
       "    </tr>\n",
       "    <tr>\n",
       "      <th>nadh_c</th>\n",
       "      <td>0.000099</td>\n",
       "      <td>0.000021</td>\n",
       "    </tr>\n",
       "    <tr>\n",
       "      <th>13dpg_c</th>\n",
       "      <td>0.000184</td>\n",
       "      <td>0.000141</td>\n",
       "    </tr>\n",
       "    <tr>\n",
       "      <th>f6p_c</th>\n",
       "      <td>0.001214</td>\n",
       "      <td>0.001711</td>\n",
       "    </tr>\n",
       "    <tr>\n",
       "      <th>dhap_c</th>\n",
       "      <td>0.004772</td>\n",
       "      <td>0.004062</td>\n",
       "    </tr>\n",
       "    <tr>\n",
       "      <th>g6p_c</th>\n",
       "      <td>0.003431</td>\n",
       "      <td>0.002435</td>\n",
       "    </tr>\n",
       "    <tr>\n",
       "      <th>pep_c</th>\n",
       "      <td>0.001276</td>\n",
       "      <td>0.001276</td>\n",
       "    </tr>\n",
       "    <tr>\n",
       "      <th>pyr_c</th>\n",
       "      <td>0.005079</td>\n",
       "      <td>0.001420</td>\n",
       "    </tr>\n",
       "    <tr>\n",
       "      <th>2pg_c</th>\n",
       "      <td>0.002876</td>\n",
       "      <td>0.001182</td>\n",
       "    </tr>\n",
       "    <tr>\n",
       "      <th>3pg_c</th>\n",
       "      <td>0.002876</td>\n",
       "      <td>0.006999</td>\n",
       "    </tr>\n",
       "    <tr>\n",
       "      <th>fdp_c</th>\n",
       "      <td>0.004196</td>\n",
       "      <td>0.009390</td>\n",
       "    </tr>\n",
       "    <tr>\n",
       "      <th>gdp_c</th>\n",
       "      <td>0.001206</td>\n",
       "      <td>0.001206</td>\n",
       "    </tr>\n",
       "  </tbody>\n",
       "</table>\n",
       "</div>"
      ],
      "text/plain": [
       "          Initial  Adjusted\n",
       "ID                         \n",
       "adp_c    0.002185  0.002185\n",
       "amp_c    0.001743  0.001743\n",
       "atp_c    0.012466  0.012466\n",
       "nad_c    0.007636  0.035436\n",
       "nadh_c   0.000099  0.000021\n",
       "13dpg_c  0.000184  0.000141\n",
       "f6p_c    0.001214  0.001711\n",
       "dhap_c   0.004772  0.004062\n",
       "g6p_c    0.003431  0.002435\n",
       "pep_c    0.001276  0.001276\n",
       "pyr_c    0.005079  0.001420\n",
       "2pg_c    0.002876  0.001182\n",
       "3pg_c    0.002876  0.006999\n",
       "fdp_c    0.004196  0.009390\n",
       "gdp_c    0.001206  0.001206"
      ]
     },
     "execution_count": 19,
     "metadata": {},
     "output_type": "execute_result"
    }
   ],
   "source": [
    "conc_data_for_comparison = pd.concat(objs=(conc_data, conc_solution.concentrations), axis=1).dropna()\n",
    "conc_data_for_comparison.index.name = \"ID\"\n",
    "conc_data_for_comparison.columns = [\"Initial\", \"Adjusted\"]\n",
    "conc_data_for_comparison.to_csv(\"./data/analysis_data/concentrations.csv\")\n",
    "conc_data_for_comparison"
   ]
  },
  {
   "cell_type": "code",
   "execution_count": 20,
   "id": "f4d13533",
   "metadata": {},
   "outputs": [
    {
     "data": {
      "image/png": "[encoded data removed]",
      "text/plain": [
       "<Figure size 500x500 with 1 Axes>"
      ]
     },
     "metadata": {},
     "output_type": "display_data"
    }
   ],
   "source": [
    "Keq_comparison_fig, ax = plt.subplots(nrows=1, ncols=1, figsize=(5, 5))\n",
    "\n",
    "plot_comparison(\n",
    "    x=Keq_data[\"Equilibrium Constant\"], y=conc_solution,\n",
    "    compare=\"Keqs\", ax=ax,\n",
    "    legend=\"right outside\", plot_function=\"loglog\",\n",
    "    xlim=(1e-5, 1e5), ylim=(1e-5, 1e5), xy_line=True,\n",
    "    xy_legend=\"best\", xlabel=\"Initial\", ylabel=\"Adjusted\")\n",
    "\n",
    "conc_comparison_fig.tight_layout()\n",
    "update_model_with_concentration_solution(\n",
    "    mass_model, conc_solution, concentrations=True, Keqs=True, inplace=True);"
   ]
  },
  {
   "cell_type": "markdown",
   "id": "f1aff806",
   "metadata": {},
   "source": [
    "#### Export data for analysis"
   ]
  },
  {
   "cell_type": "code",
   "execution_count": 21,
   "id": "0d00e7d9",
   "metadata": {},
   "outputs": [
    {
     "data": {
      "text/html": [
       "<div>\n",
       "<style scoped>\n",
       "    .dataframe tbody tr th:only-of-type {\n",
       "        vertical-align: middle;\n",
       "    }\n",
       "\n",
       "    .dataframe tbody tr th {\n",
       "        vertical-align: top;\n",
       "    }\n",
       "\n",
       "    .dataframe thead th {\n",
       "        text-align: right;\n",
       "    }\n",
       "</style>\n",
       "<table border=\"1\" class=\"dataframe\">\n",
       "  <thead>\n",
       "    <tr style=\"text-align: right;\">\n",
       "      <th></th>\n",
       "      <th>Initial</th>\n",
       "      <th>Adjusted</th>\n",
       "    </tr>\n",
       "    <tr>\n",
       "      <th>ID</th>\n",
       "      <th></th>\n",
       "      <th></th>\n",
       "    </tr>\n",
       "  </thead>\n",
       "  <tbody>\n",
       "    <tr>\n",
       "      <th>Keq_PGI</th>\n",
       "      <td>0.364000</td>\n",
       "      <td>0.258394</td>\n",
       "    </tr>\n",
       "    <tr>\n",
       "      <th>Keq_PFK</th>\n",
       "      <td>2000.000000</td>\n",
       "      <td>2000.000000</td>\n",
       "    </tr>\n",
       "    <tr>\n",
       "      <th>Keq_FBP</th>\n",
       "      <td>41.500000</td>\n",
       "      <td>41.500000</td>\n",
       "    </tr>\n",
       "    <tr>\n",
       "      <th>Keq_FBA</th>\n",
       "      <td>0.000160</td>\n",
       "      <td>0.000358</td>\n",
       "    </tr>\n",
       "    <tr>\n",
       "      <th>Keq_TPI</th>\n",
       "      <td>0.106952</td>\n",
       "      <td>0.203736</td>\n",
       "    </tr>\n",
       "    <tr>\n",
       "      <th>Keq_GAPD</th>\n",
       "      <td>0.452000</td>\n",
       "      <td>0.586631</td>\n",
       "    </tr>\n",
       "    <tr>\n",
       "      <th>Keq_PGK</th>\n",
       "      <td>0.000530</td>\n",
       "      <td>0.000530</td>\n",
       "    </tr>\n",
       "    <tr>\n",
       "      <th>Keq_PGM</th>\n",
       "      <td>5.300000</td>\n",
       "      <td>2.178140</td>\n",
       "    </tr>\n",
       "    <tr>\n",
       "      <th>Keq_ENO</th>\n",
       "      <td>5.190000</td>\n",
       "      <td>5.190000</td>\n",
       "    </tr>\n",
       "    <tr>\n",
       "      <th>Keq_PYK</th>\n",
       "      <td>21739.130400</td>\n",
       "      <td>21739.130400</td>\n",
       "    </tr>\n",
       "    <tr>\n",
       "      <th>Keq_PPS</th>\n",
       "      <td>2.410000</td>\n",
       "      <td>2.410000</td>\n",
       "    </tr>\n",
       "    <tr>\n",
       "      <th>Keq_LDH_D</th>\n",
       "      <td>0.000067</td>\n",
       "      <td>0.000240</td>\n",
       "    </tr>\n",
       "  </tbody>\n",
       "</table>\n",
       "</div>"
      ],
      "text/plain": [
       "                Initial      Adjusted\n",
       "ID                                   \n",
       "Keq_PGI        0.364000      0.258394\n",
       "Keq_PFK     2000.000000   2000.000000\n",
       "Keq_FBP       41.500000     41.500000\n",
       "Keq_FBA        0.000160      0.000358\n",
       "Keq_TPI        0.106952      0.203736\n",
       "Keq_GAPD       0.452000      0.586631\n",
       "Keq_PGK        0.000530      0.000530\n",
       "Keq_PGM        5.300000      2.178140\n",
       "Keq_ENO        5.190000      5.190000\n",
       "Keq_PYK    21739.130400  21739.130400\n",
       "Keq_PPS        2.410000      2.410000\n",
       "Keq_LDH_D      0.000067      0.000240"
      ]
     },
     "execution_count": 21,
     "metadata": {},
     "output_type": "execute_result"
    }
   ],
   "source": [
    "Keq_data_for_comparison = pd.concat(objs=(Keq_data, conc_solution.Keqs), axis=1).dropna()\n",
    "Keq_data_for_comparison.index.name = \"ID\"\n",
    "Keq_data_for_comparison.columns = [\"Initial\", \"Adjusted\"]\n",
    "Keq_data_for_comparison.to_csv(\"./data/analysis_data/equilibrium_constants.csv\")\n",
    "Keq_data_for_comparison"
   ]
  },
  {
   "cell_type": "code",
   "execution_count": 22,
   "id": "e0deb552",
   "metadata": {},
   "outputs": [],
   "source": [
    "# Fix Metabolite IDs as SBML compatible before next step\n",
    "for metabolite in mass_model.metabolites:\n",
    "    if metabolite.id[0].isdigit():\n",
    "        metabolite.id = f\"_{metabolite.id}\"\n",
    "mass_model.repair()"
   ]
  },
  {
   "cell_type": "code",
   "execution_count": 23,
   "id": "b441506e",
   "metadata": {},
   "outputs": [],
   "source": [
    "n_models = 5"
   ]
  },
  {
   "cell_type": "code",
   "execution_count": 24,
   "id": "1094e07c",
   "metadata": {},
   "outputs": [
    {
     "data": {
      "text/html": [
       "<div>\n",
       "<style scoped>\n",
       "    .dataframe tbody tr th:only-of-type {\n",
       "        vertical-align: middle;\n",
       "    }\n",
       "\n",
       "    .dataframe tbody tr th {\n",
       "        vertical-align: top;\n",
       "    }\n",
       "\n",
       "    .dataframe thead th {\n",
       "        text-align: right;\n",
       "    }\n",
       "</style>\n",
       "<table border=\"1\" class=\"dataframe\">\n",
       "  <thead>\n",
       "    <tr style=\"text-align: right;\">\n",
       "      <th></th>\n",
       "      <th>f6p_c</th>\n",
       "      <th>g6p_c</th>\n",
       "      <th>adp_c</th>\n",
       "      <th>atp_c</th>\n",
       "      <th>fdp_c</th>\n",
       "      <th>pi_c</th>\n",
       "      <th>dhap_c</th>\n",
       "      <th>g3p_c</th>\n",
       "      <th>_13dpg_c</th>\n",
       "      <th>nad_c</th>\n",
       "      <th>nadh_c</th>\n",
       "      <th>_3pg_c</th>\n",
       "      <th>_2pg_c</th>\n",
       "      <th>pep_c</th>\n",
       "      <th>pyr_c</th>\n",
       "      <th>amp_c</th>\n",
       "      <th>lac__D_c</th>\n",
       "      <th>gdp_c</th>\n",
       "    </tr>\n",
       "  </thead>\n",
       "  <tbody>\n",
       "    <tr>\n",
       "      <th>0</th>\n",
       "      <td>0.010470</td>\n",
       "      <td>0.010661</td>\n",
       "      <td>0.013486</td>\n",
       "      <td>0.105633</td>\n",
       "      <td>0.024770</td>\n",
       "      <td>0.004267</td>\n",
       "      <td>0.005646</td>\n",
       "      <td>0.000339</td>\n",
       "      <td>0.000149</td>\n",
       "      <td>0.073327</td>\n",
       "      <td>0.000050</td>\n",
       "      <td>0.011918</td>\n",
       "      <td>0.001586</td>\n",
       "      <td>0.001170</td>\n",
       "      <td>0.000168</td>\n",
       "      <td>0.000468</td>\n",
       "      <td>0.000491</td>\n",
       "      <td>0.000121</td>\n",
       "    </tr>\n",
       "    <tr>\n",
       "      <th>1</th>\n",
       "      <td>0.000553</td>\n",
       "      <td>0.000743</td>\n",
       "      <td>0.003268</td>\n",
       "      <td>0.001477</td>\n",
       "      <td>0.005574</td>\n",
       "      <td>0.004123</td>\n",
       "      <td>0.002493</td>\n",
       "      <td>0.000171</td>\n",
       "      <td>0.000108</td>\n",
       "      <td>0.112689</td>\n",
       "      <td>0.000071</td>\n",
       "      <td>0.038825</td>\n",
       "      <td>0.005840</td>\n",
       "      <td>0.002756</td>\n",
       "      <td>0.001839</td>\n",
       "      <td>0.008645</td>\n",
       "      <td>0.004783</td>\n",
       "      <td>0.000456</td>\n",
       "    </tr>\n",
       "    <tr>\n",
       "      <th>2</th>\n",
       "      <td>0.003326</td>\n",
       "      <td>0.004251</td>\n",
       "      <td>0.003567</td>\n",
       "      <td>0.001996</td>\n",
       "      <td>0.011121</td>\n",
       "      <td>0.011735</td>\n",
       "      <td>0.003586</td>\n",
       "      <td>0.000109</td>\n",
       "      <td>0.000027</td>\n",
       "      <td>0.147767</td>\n",
       "      <td>0.000113</td>\n",
       "      <td>0.019942</td>\n",
       "      <td>0.000497</td>\n",
       "      <td>0.000485</td>\n",
       "      <td>0.000204</td>\n",
       "      <td>0.004712</td>\n",
       "      <td>0.000692</td>\n",
       "      <td>0.000146</td>\n",
       "    </tr>\n",
       "    <tr>\n",
       "      <th>3</th>\n",
       "      <td>0.001739</td>\n",
       "      <td>0.002718</td>\n",
       "      <td>0.009105</td>\n",
       "      <td>0.001749</td>\n",
       "      <td>0.002127</td>\n",
       "      <td>0.008857</td>\n",
       "      <td>0.002809</td>\n",
       "      <td>0.000071</td>\n",
       "      <td>0.000029</td>\n",
       "      <td>0.043257</td>\n",
       "      <td>0.000055</td>\n",
       "      <td>0.038715</td>\n",
       "      <td>0.000583</td>\n",
       "      <td>0.000700</td>\n",
       "      <td>0.000203</td>\n",
       "      <td>0.002591</td>\n",
       "      <td>0.001066</td>\n",
       "      <td>0.000122</td>\n",
       "    </tr>\n",
       "    <tr>\n",
       "      <th>4</th>\n",
       "      <td>0.001519</td>\n",
       "      <td>0.001621</td>\n",
       "      <td>0.004541</td>\n",
       "      <td>0.002020</td>\n",
       "      <td>0.003339</td>\n",
       "      <td>0.012093</td>\n",
       "      <td>0.000720</td>\n",
       "      <td>0.000049</td>\n",
       "      <td>0.000028</td>\n",
       "      <td>0.033218</td>\n",
       "      <td>0.000030</td>\n",
       "      <td>0.028609</td>\n",
       "      <td>0.000541</td>\n",
       "      <td>0.000468</td>\n",
       "      <td>0.000170</td>\n",
       "      <td>0.001633</td>\n",
       "      <td>0.000637</td>\n",
       "      <td>0.000121</td>\n",
       "    </tr>\n",
       "  </tbody>\n",
       "</table>\n",
       "</div>"
      ],
      "text/plain": [
       "      f6p_c     g6p_c     adp_c     atp_c     fdp_c      pi_c    dhap_c  \\\n",
       "0  0.010470  0.010661  0.013486  0.105633  0.024770  0.004267  0.005646   \n",
       "1  0.000553  0.000743  0.003268  0.001477  0.005574  0.004123  0.002493   \n",
       "2  0.003326  0.004251  0.003567  0.001996  0.011121  0.011735  0.003586   \n",
       "3  0.001739  0.002718  0.009105  0.001749  0.002127  0.008857  0.002809   \n",
       "4  0.001519  0.001621  0.004541  0.002020  0.003339  0.012093  0.000720   \n",
       "\n",
       "      g3p_c  _13dpg_c     nad_c    nadh_c    _3pg_c    _2pg_c     pep_c  \\\n",
       "0  0.000339  0.000149  0.073327  0.000050  0.011918  0.001586  0.001170   \n",
       "1  0.000171  0.000108  0.112689  0.000071  0.038825  0.005840  0.002756   \n",
       "2  0.000109  0.000027  0.147767  0.000113  0.019942  0.000497  0.000485   \n",
       "3  0.000071  0.000029  0.043257  0.000055  0.038715  0.000583  0.000700   \n",
       "4  0.000049  0.000028  0.033218  0.000030  0.028609  0.000541  0.000468   \n",
       "\n",
       "      pyr_c     amp_c  lac__D_c     gdp_c  \n",
       "0  0.000168  0.000468  0.000491  0.000121  \n",
       "1  0.001839  0.008645  0.004783  0.000456  \n",
       "2  0.000204  0.004712  0.000692  0.000146  \n",
       "3  0.000203  0.002591  0.001066  0.000122  \n",
       "4  0.000170  0.001633  0.000637  0.000121  "
      ]
     },
     "execution_count": 24,
     "metadata": {},
     "output_type": "execute_result"
    }
   ],
   "source": [
    "conc_solver = ConcSolver(\n",
    "    mass_model,\n",
    "    excluded_metabolites=[\"h_c\", \"h2o_c\"],\n",
    "    constraint_buffer=1,\n",
    "    equilibrium_reactions=[x.id for x in mass_model.reactions if x.steady_state_flux == 0]\n",
    "\n",
    ")\n",
    "\n",
    "conc_solver.setup_sampling_problem(\n",
    "    fixed_conc_bounds=list(mass_model.fixed),\n",
    ")\n",
    "for variable in conc_solver.variables:\n",
    "    try:\n",
    "        met = mass_model.metabolites.get_by_id(variable.name)\n",
    "        variable.lb, variable.ub = np.log([met.ic / 10, met.ic * 10])\n",
    "    except:\n",
    "        pass\n",
    "conc_samples = sample_concentrations(conc_solver, n=n_models, seed=4)\n",
    "conc_samples"
   ]
  },
  {
   "cell_type": "markdown",
   "id": "81a1a7e6",
   "metadata": {},
   "source": [
    "### Balance network with pseudoreactions and calculate PERCs"
   ]
  },
  {
   "cell_type": "code",
   "execution_count": 25,
   "id": "0e94c2b2",
   "metadata": {},
   "outputs": [
    {
     "name": "stdout",
     "output_type": "stream",
     "text": [
      "Creating model Glycolysis_C0\n",
      "Creating model Glycolysis_C1\n",
      "Creating model Glycolysis_C2\n",
      "Creating model Glycolysis_C3\n",
      "Creating model Glycolysis_C4\n",
      "Number of models in ensemble: 5\n"
     ]
    }
   ],
   "source": [
    "models_for_ensemble = []\n",
    "for idx, conc_sample in conc_samples.iterrows():\n",
    "    # Make copy of new model\n",
    "    new_model = mass_model.copy()\n",
    "    new_model.id += \"_C{0:d}\".format(idx)\n",
    "    print(f\"Creating model {new_model.id}\")\n",
    "    # Get concentration sample and update model with sample\n",
    "    new_model.update_initial_conditions(conc_sample.to_dict())\n",
    "    fluxes = np.array(list(new_model.steady_state_fluxes.values()))\n",
    "    imbalanced_metabolites = new_model.S.dot(fluxes)\n",
    "    # Iterate through metabolites\n",
    "    for mid, imbalance in imbalanced_metabolites.iteritems():\n",
    "        # Ignore balanced metabolites\n",
    "        if imbalance == 0:\n",
    "            continue\n",
    "        # Get metabolite object\n",
    "        met = new_model.metabolites.get_by_id(mid)\n",
    "\n",
    "        # Add boundary reactions for imbalanced metabolites\n",
    "        boundary_type = \"sink\"    \n",
    "        # Add boundary reaction with imbalance as flux value\n",
    "        boundary_reaction = new_model.add_boundary(\n",
    "            mid, boundary_type, boundary_condition=met.ic)\n",
    "\n",
    "        boundary_reaction.Keq = 1\n",
    "        if imbalance < 0:\n",
    "            boundary_reaction.reverse_stoichiometry(inplace=True)\n",
    "            imbalance = -imbalance\n",
    "\n",
    "        boundary_reaction.kf = imbalance / met.ic\n",
    "        boundary_reaction.steady_state_flux = imbalance\n",
    "        try:\n",
    "            # Update PERCs\n",
    "            new_model.calculate_PERCs(\n",
    "                fluxes={\n",
    "                    r: v for r, v in new_model.steady_state_fluxes.items()\n",
    "                    if not r.boundary},\n",
    "                update_reactions=True)\n",
    "        except:\n",
    "            print(\"Negative PERCs for {0}\".format(new_model.id))\n",
    "            continue\n",
    "    models_for_ensemble.append(new_model)\n",
    "print(\"Number of models in ensemble: {0:d}\".format(\n",
    "    len(models_for_ensemble)))"
   ]
  },
  {
   "cell_type": "code",
   "execution_count": 26,
   "id": "45d56315",
   "metadata": {},
   "outputs": [
    {
     "data": {
      "image/png": "[encoded data removed]",
      "text/plain": [
       "<Figure size 600x400 with 1 Axes>"
      ]
     },
     "metadata": {},
     "output_type": "display_data"
    }
   ],
   "source": [
    "reference_model = models_for_ensemble[0].copy()\n",
    "reference_model.id = \"Glycolysis_Ref_wo_Enzymes\"\n",
    "sim = Simulation(reference_model)\n",
    "sim.integrator.absolute_tolerance = 1e-15\n",
    "sim.integrator.relative_tolerance = 1e-9\n",
    "\n",
    "tfinal = 1e6\n",
    "conc_sol, flux_sol = sim.simulate(reference_model, time=(0, tfinal))\n",
    "conc_sol.view_time_profile()\n"
   ]
  },
  {
   "cell_type": "markdown",
   "id": "7e028eb5",
   "metadata": {},
   "source": [
    "#### Save a reference MASS model w/o enzymes"
   ]
  },
  {
   "cell_type": "code",
   "execution_count": 27,
   "id": "9d413174",
   "metadata": {},
   "outputs": [
    {
     "name": "stdout",
     "output_type": "stream",
     "text": [
      "Saving Glycolysis_Ref_wo_Enzymes\n"
     ]
    },
    {
     "data": {
      "text/html": [
       "\n",
       "            <table>\n",
       "                <tr>\n",
       "                    <td><strong>Name</strong></td><td>Glycolysis_Ref_wo_Enzymes</td>\n",
       "                </tr><tr>\n",
       "                    <td><strong>Memory address</strong></td><td>0x020eb518b088</td>\n",
       "                </tr><tr>\n",
       "                    <td><strong>Stoichiometric Matrix</strong></td>\n",
       "                    <td>20x28</td>\n",
       "                </tr><tr>\n",
       "                    <td><strong>Matrix Rank</strong></td>\n",
       "                    <td>19</td>\n",
       "                </tr><tr>\n",
       "                    <td><strong>Number of metabolites</strong></td>\n",
       "                    <td>20</td>\n",
       "                </tr><tr>\n",
       "                    <td><strong>Initial conditions defined</strong></td>\n",
       "                    <td>20/20</td>\n",
       "                </tr><tr>\n",
       "                    <td><strong>Number of reactions</strong></td>\n",
       "                    <td>28</td>\n",
       "                </tr><tr>\n",
       "                    <td><strong>Number of genes</strong></td>\n",
       "                    <td>12</td>\n",
       "                </tr><tr>\n",
       "                    <td><strong>Number of enzyme modules</strong></td>\n",
       "                    <td>0</td>\n",
       "                </tr><tr>\n",
       "                    <td><strong>Number of groups</strong></td>\n",
       "                    <td>0</td>\n",
       "                </tr><tr>\n",
       "                    <td><strong>Objective expression</strong></td>\n",
       "                    <td>0</td>\n",
       "                </tr><tr>\n",
       "                    <td><strong>Compartments</strong></td>\n",
       "                    <td>c</td>\n",
       "                </tr>\n",
       "            </table>\n",
       "        "
      ],
      "text/plain": [
       "<MassModel Glycolysis_Ref_wo_Enzymes at 0x20eb518b088>"
      ]
     },
     "execution_count": 27,
     "metadata": {},
     "output_type": "execute_result"
    }
   ],
   "source": [
    "conc_sol, flux_sol = sim.find_steady_state(\n",
    "    models=reference_model, strategy=\"simulate\", \n",
    "    tfinal=tfinal)\n",
    "if conc_sol and flux_sol:\n",
    "    reference_model.update_initial_conditions(conc_sol)\n",
    "    reference_model.update_parameters({f\"v_{k}\": v for k, v in flux_sol.items()})\n",
    "    # Save a reference MASS model\n",
    "    save_mass_json_model(\n",
    "        mass_model=reference_model,\n",
    "        filename=f\"./models/mass/without_enzymes/{reference_model.id}.json\")\n",
    "    print(f\"Saving {reference_model.id}\")\n",
    "reference_model"
   ]
  },
  {
   "cell_type": "markdown",
   "id": "360194f9",
   "metadata": {},
   "source": [
    "## Create Enzyme Modules\n",
    "\n",
    "Assume 90% of flux goes through the major isozyme, the remaining through the minor isozyme"
   ]
  },
  {
   "cell_type": "code",
   "execution_count": 28,
   "id": "11d88fc7",
   "metadata": {},
   "outputs": [],
   "source": [
    "from construction_functions import make_enzyme_module_from_dir"
   ]
  },
  {
   "cell_type": "code",
   "execution_count": 29,
   "id": "7d41698b",
   "metadata": {},
   "outputs": [
    {
     "data": {
      "text/plain": [
       "{'PFK': {'PFK1': 0.9, 'PFK2': 0.1},\n",
       " 'FBP': {'FBP1': 0.9, 'FBP2': 0.1},\n",
       " 'FBA': {'FBA1': 0.9, 'FBA2': 0.1},\n",
       " 'PGM': {'PGMi': 0.9, 'PGMd': 0.1},\n",
       " 'PYK': {'PYK1': 0.9, 'PYK2': 0.1}}"
      ]
     },
     "execution_count": 29,
     "metadata": {},
     "output_type": "execute_result"
    }
   ],
   "source": [
    "isozyme1_percent = 0.9\n",
    "isozyme2_percent = 0.1\n",
    "\n",
    "# Isozymes and flux split percentages,\n",
    "isozymes_and_flux_splits = {\n",
    "    \"PFK\": {\n",
    "        \"PFK1\": isozyme1_percent,\n",
    "        \"PFK2\": isozyme2_percent,\n",
    "    },\n",
    "    \"FBP\": {\n",
    "        \"FBP1\": isozyme1_percent,\n",
    "        \"FBP2\": isozyme2_percent,\n",
    "    },\n",
    "    \"FBA\": {\n",
    "        \"FBA1\": isozyme1_percent,\n",
    "        \"FBA2\": isozyme2_percent,\n",
    "    },\n",
    "    \"PGM\": {\n",
    "        \"PGMi\": isozyme1_percent,\n",
    "        \"PGMd\": isozyme2_percent,\n",
    "    },\n",
    "    \"PYK\": {\n",
    "        \"PYK1\": isozyme1_percent,\n",
    "        \"PYK2\": isozyme2_percent,\n",
    "    },\n",
    "}\n",
    "        \n",
    "isozymes_and_flux_splits"
   ]
  },
  {
   "cell_type": "code",
   "execution_count": 30,
   "id": "dcab7a59",
   "metadata": {
    "scrolled": true
   },
   "outputs": [
    {
     "name": "stdout",
     "output_type": "stream",
     "text": [
      "Finished Glycolysis_C0\n",
      "Finished Glycolysis_C1\n",
      "Finished Glycolysis_C2\n",
      "Finished Glycolysis_C3\n",
      "Finished Glycolysis_C4\n"
     ]
    }
   ],
   "source": [
    "final_ensemble = []\n",
    "for model in models_for_ensemble:\n",
    "    enzyme_modules = {}\n",
    "    for reaction in model.reactions.get_by_any(reaction_list):\n",
    "        # PGM & PGK needs flux flipped since enzyme module stoichiometry\n",
    "        # is reversed compared to lone reaction.\n",
    "        if reaction.id in [\"PGK\", \"PGM\"]:\n",
    "            flux = -reaction.steady_state_flux\n",
    "        else:\n",
    "            flux = reaction.steady_state_flux\n",
    "        # Make isozymes\n",
    "        if reaction.id in isozymes_and_flux_splits:\n",
    "            isozymes_and_flux_split = isozymes_and_flux_splits[reaction.id]\n",
    "            isozyme_modules = []\n",
    "            for isozyme, flux_split in isozymes_and_flux_split.items():\n",
    "                enzyme_module = make_enzyme_module_from_dir(\n",
    "                    enzyme_id=isozyme,\n",
    "                    steady_state_flux=flux * flux_split, # Split flux for isozymes\n",
    "                    metabolite_concentrations=model.initial_conditions,\n",
    "                    path_to_dir=\"./data/enzyme_module_data\",\n",
    "                    kcluster=1,\n",
    "                    enzyme_gpr=reaction.gene_reaction_rule,\n",
    "                    zero_tol=1e-10)\n",
    "                isozyme_modules += [enzyme_module]\n",
    "            enzyme_modules[reaction] = isozyme_modules\n",
    "        else:\n",
    "            enzyme_module = make_enzyme_module_from_dir(\n",
    "                enzyme_id=reaction.id,\n",
    "                steady_state_flux=flux,\n",
    "                metabolite_concentrations=new_model.initial_conditions,\n",
    "                path_to_dir=\"./data/enzyme_module_data\",\n",
    "                kcluster=1,\n",
    "                enzyme_gpr=reaction.gene_reaction_rule,\n",
    "                zero_tol=1e-10)\n",
    "            enzyme_modules[reaction] = [enzyme_module]\n",
    "    for reaction_to_remove, enzymes_to_add in enzyme_modules.items():\n",
    "        model.remove_reactions([reaction_to_remove])\n",
    "        for enzyme in enzymes_to_add:\n",
    "            model = model.merge(enzyme, inplace=True)\n",
    "    final_ensemble += [model]\n",
    "    print(f\"Finished {model.id}\")"
   ]
  },
  {
   "cell_type": "markdown",
   "id": "ed8c4290",
   "metadata": {},
   "source": [
    "# Inspect a model"
   ]
  },
  {
   "cell_type": "code",
   "execution_count": 31,
   "id": "ae82bc67",
   "metadata": {},
   "outputs": [
    {
     "ename": "MassSimulationError",
     "evalue": "Critical simulation fail due to the following:\nUnboundLocalError: local variable 'solutions' referenced before assignment",
     "output_type": "error",
     "traceback": [
      "\u001b[1;31m---------------------------------------------------------------------------\u001b[0m",
      "\u001b[1;31mKeyboardInterrupt\u001b[0m                         Traceback (most recent call last)",
      "\u001b[1;32m~\\Anaconda3\\envs\\myenv\\lib\\site-packages\\mass\\simulation\\simulation.py\u001b[0m in \u001b[0;36msimulate\u001b[1;34m(self, models, time, perturbations, **kwargs)\u001b[0m\n\u001b[0;32m    638\u001b[0m                     rr, reset = self._set_simulation_values(\n\u001b[1;32m--> 639\u001b[1;33m                         \u001b[0mmodel\u001b[0m\u001b[1;33m,\u001b[0m \u001b[0mperturbations\u001b[0m\u001b[1;33m,\u001b[0m \u001b[0mkwargs\u001b[0m\u001b[1;33m.\u001b[0m\u001b[0mget\u001b[0m\u001b[1;33m(\u001b[0m\u001b[1;34m\"verbose\"\u001b[0m\u001b[1;33m)\u001b[0m\u001b[1;33m\u001b[0m\u001b[1;33m\u001b[0m\u001b[0m\n\u001b[0m\u001b[0;32m    640\u001b[0m                     )\n",
      "\u001b[1;32m~\\Anaconda3\\envs\\myenv\\lib\\site-packages\\mass\\simulation\\simulation.py\u001b[0m in \u001b[0;36m_set_simulation_values\u001b[1;34m(self, model, perturbations, verbose)\u001b[0m\n\u001b[0;32m   1074\u001b[0m         \u001b[1;31m# Set roadrunner to reflect given model variant\u001b[0m\u001b[1;33m\u001b[0m\u001b[1;33m\u001b[0m\u001b[1;33m\u001b[0m\u001b[0m\n\u001b[1;32m-> 1075\u001b[1;33m         \u001b[0mrr\u001b[0m \u001b[1;33m=\u001b[0m \u001b[0mself\u001b[0m\u001b[1;33m.\u001b[0m\u001b[0m_set_values_in_roadrunner\u001b[0m\u001b[1;33m(\u001b[0m\u001b[0mmodel\u001b[0m\u001b[1;33m,\u001b[0m \u001b[0mreset\u001b[0m\u001b[1;33m,\u001b[0m \u001b[0msim_values_to_set\u001b[0m\u001b[1;33m)\u001b[0m\u001b[1;33m\u001b[0m\u001b[1;33m\u001b[0m\u001b[0m\n\u001b[0m\u001b[0;32m   1076\u001b[0m \u001b[1;33m\u001b[0m\u001b[0m\n",
      "\u001b[1;32m~\\Anaconda3\\envs\\myenv\\lib\\site-packages\\mass\\simulation\\simulation.py\u001b[0m in \u001b[0;36m_set_values_in_roadrunner\u001b[1;34m(self, model, reset, sim_values_to_set)\u001b[0m\n\u001b[0;32m   1104\u001b[0m                     \u001b[1;32mcontinue\u001b[0m\u001b[1;33m\u001b[0m\u001b[1;33m\u001b[0m\u001b[0m\n\u001b[1;32m-> 1105\u001b[1;33m                 \u001b[1;32mif\u001b[0m \u001b[0m_make_init_cond\u001b[0m\u001b[1;33m(\u001b[0m\u001b[0mkey\u001b[0m\u001b[1;33m)\u001b[0m \u001b[1;32min\u001b[0m \u001b[0mrr\u001b[0m\u001b[1;33m.\u001b[0m\u001b[0mkeys\u001b[0m\u001b[1;33m(\u001b[0m\u001b[1;33m)\u001b[0m\u001b[1;33m:\u001b[0m\u001b[1;33m\u001b[0m\u001b[1;33m\u001b[0m\u001b[0m\n\u001b[0m\u001b[0;32m   1106\u001b[0m                     \u001b[0mrr\u001b[0m\u001b[1;33m.\u001b[0m\u001b[0msetValue\u001b[0m\u001b[1;33m(\u001b[0m\u001b[0m_make_init_cond\u001b[0m\u001b[1;33m(\u001b[0m\u001b[0mkey\u001b[0m\u001b[1;33m)\u001b[0m\u001b[1;33m,\u001b[0m \u001b[0mvalue\u001b[0m\u001b[1;33m)\u001b[0m\u001b[1;33m\u001b[0m\u001b[1;33m\u001b[0m\u001b[0m\n",
      "\u001b[1;32m~\\Anaconda3\\envs\\myenv\\lib\\site-packages\\roadrunner\\roadrunner.py\u001b[0m in \u001b[0;36mkeys\u001b[1;34m(self, types)\u001b[0m\n\u001b[0;32m   4436\u001b[0m     \u001b[1;32mdef\u001b[0m \u001b[0mkeys\u001b[0m\u001b[1;33m(\u001b[0m\u001b[0mself\u001b[0m\u001b[1;33m,\u001b[0m \u001b[0mtypes\u001b[0m\u001b[1;33m=\u001b[0m\u001b[0m_roadrunner\u001b[0m\u001b[1;33m.\u001b[0m\u001b[0mSelectionRecord_ALL\u001b[0m\u001b[1;33m)\u001b[0m\u001b[1;33m:\u001b[0m\u001b[1;33m\u001b[0m\u001b[1;33m\u001b[0m\u001b[0m\n\u001b[1;32m-> 4437\u001b[1;33m         \u001b[1;32mreturn\u001b[0m \u001b[0mself\u001b[0m\u001b[1;33m.\u001b[0m\u001b[0mgetIds\u001b[0m\u001b[1;33m(\u001b[0m\u001b[0mtypes\u001b[0m\u001b[1;33m)\u001b[0m\u001b[1;33m\u001b[0m\u001b[1;33m\u001b[0m\u001b[0m\n\u001b[0m\u001b[0;32m   4438\u001b[0m \u001b[1;33m\u001b[0m\u001b[0m\n",
      "\u001b[1;32m~\\Anaconda3\\envs\\myenv\\lib\\site-packages\\roadrunner\\roadrunner.py\u001b[0m in \u001b[0;36mgetIds\u001b[1;34m(self, types)\u001b[0m\n\u001b[0;32m   4448\u001b[0m \u001b[1;33m\u001b[0m\u001b[0m\n\u001b[1;32m-> 4449\u001b[1;33m         \u001b[1;32mreturn\u001b[0m \u001b[0mself\u001b[0m\u001b[1;33m.\u001b[0m\u001b[0m_getIds\u001b[0m\u001b[1;33m(\u001b[0m\u001b[0mtypes\u001b[0m\u001b[1;33m)\u001b[0m\u001b[1;33m\u001b[0m\u001b[1;33m\u001b[0m\u001b[0m\n\u001b[0m\u001b[0;32m   4450\u001b[0m \u001b[1;33m\u001b[0m\u001b[0m\n",
      "\u001b[1;31mKeyboardInterrupt\u001b[0m: ",
      "\nDuring handling of the above exception, another exception occurred:\n",
      "\u001b[1;31mUnboundLocalError\u001b[0m                         Traceback (most recent call last)",
      "\u001b[1;32m~\\Anaconda3\\envs\\myenv\\lib\\site-packages\\mass\\simulation\\simulation.py\u001b[0m in \u001b[0;36msimulate\u001b[1;34m(self, models, time, perturbations, **kwargs)\u001b[0m\n\u001b[0;32m    691\u001b[0m                     )\n\u001b[1;32m--> 692\u001b[1;33m                     \u001b[0mconc_sol_list\u001b[0m \u001b[1;33m+=\u001b[0m \u001b[1;33m[\u001b[0m\u001b[0msolutions\u001b[0m\u001b[1;33m[\u001b[0m\u001b[1;36m0\u001b[0m\u001b[1;33m]\u001b[0m\u001b[1;33m]\u001b[0m\u001b[1;33m\u001b[0m\u001b[1;33m\u001b[0m\u001b[0m\n\u001b[0m\u001b[0;32m    693\u001b[0m                     \u001b[0mflux_sol_list\u001b[0m \u001b[1;33m+=\u001b[0m \u001b[1;33m[\u001b[0m\u001b[0msolutions\u001b[0m\u001b[1;33m[\u001b[0m\u001b[1;36m1\u001b[0m\u001b[1;33m]\u001b[0m\u001b[1;33m]\u001b[0m\u001b[1;33m\u001b[0m\u001b[1;33m\u001b[0m\u001b[0m\n",
      "\u001b[1;31mUnboundLocalError\u001b[0m: local variable 'solutions' referenced before assignment",
      "\nDuring handling of the above exception, another exception occurred:\n",
      "\u001b[1;31mMassSimulationError\u001b[0m                       Traceback (most recent call last)",
      "\u001b[1;32m~\\AppData\\Local\\Temp\\ipykernel_61048\\1929813508.py\u001b[0m in \u001b[0;36m<module>\u001b[1;34m\u001b[0m\n\u001b[0;32m      6\u001b[0m \u001b[1;33m\u001b[0m\u001b[0m\n\u001b[0;32m      7\u001b[0m \u001b[0mtfinal\u001b[0m \u001b[1;33m=\u001b[0m \u001b[1;36m1e6\u001b[0m\u001b[1;33m\u001b[0m\u001b[1;33m\u001b[0m\u001b[0m\n\u001b[1;32m----> 8\u001b[1;33m \u001b[0mconc_sol\u001b[0m\u001b[1;33m,\u001b[0m \u001b[0mflux_sol\u001b[0m \u001b[1;33m=\u001b[0m \u001b[0msim\u001b[0m\u001b[1;33m.\u001b[0m\u001b[0msimulate\u001b[0m\u001b[1;33m(\u001b[0m\u001b[0mreference_model\u001b[0m\u001b[1;33m,\u001b[0m \u001b[0mtime\u001b[0m\u001b[1;33m=\u001b[0m\u001b[1;33m(\u001b[0m\u001b[1;36m0\u001b[0m\u001b[1;33m,\u001b[0m \u001b[0mtfinal\u001b[0m\u001b[1;33m)\u001b[0m\u001b[1;33m)\u001b[0m\u001b[1;33m\u001b[0m\u001b[1;33m\u001b[0m\u001b[0m\n\u001b[0m\u001b[0;32m      9\u001b[0m \u001b[0mconc_sol\u001b[0m\u001b[1;33m.\u001b[0m\u001b[0mview_time_profile\u001b[0m\u001b[1;33m(\u001b[0m\u001b[0mplot_function\u001b[0m\u001b[1;33m=\u001b[0m\u001b[1;34m\"semilogx\"\u001b[0m\u001b[1;33m)\u001b[0m\u001b[1;33m\u001b[0m\u001b[1;33m\u001b[0m\u001b[0m\n",
      "\u001b[1;32m~\\Anaconda3\\envs\\myenv\\lib\\site-packages\\mass\\simulation\\simulation.py\u001b[0m in \u001b[0;36msimulate\u001b[1;34m(self, models, time, perturbations, **kwargs)\u001b[0m\n\u001b[0;32m    702\u001b[0m                 \u001b[1;33m+\u001b[0m \u001b[0mstr\u001b[0m\u001b[1;33m(\u001b[0m\u001b[0me\u001b[0m\u001b[1;33m.\u001b[0m\u001b[0m__class__\u001b[0m\u001b[1;33m.\u001b[0m\u001b[0m__name__\u001b[0m\u001b[1;33m)\u001b[0m\u001b[1;33m\u001b[0m\u001b[1;33m\u001b[0m\u001b[0m\n\u001b[0;32m    703\u001b[0m                 \u001b[1;33m+\u001b[0m \u001b[1;34m\": \"\u001b[0m\u001b[1;33m\u001b[0m\u001b[1;33m\u001b[0m\u001b[0m\n\u001b[1;32m--> 704\u001b[1;33m                 \u001b[1;33m+\u001b[0m \u001b[0mstr\u001b[0m\u001b[1;33m(\u001b[0m\u001b[0me\u001b[0m\u001b[1;33m)\u001b[0m\u001b[1;33m\u001b[0m\u001b[1;33m\u001b[0m\u001b[0m\n\u001b[0m\u001b[0;32m    705\u001b[0m             )\n\u001b[0;32m    706\u001b[0m \u001b[1;33m\u001b[0m\u001b[0m\n",
      "\u001b[1;31mMassSimulationError\u001b[0m: Critical simulation fail due to the following:\nUnboundLocalError: local variable 'solutions' referenced before assignment"
     ]
    }
   ],
   "source": [
    "reference_model = models_for_ensemble[0].copy()\n",
    "reference_model.id = \"Glycolysis_Ref_w_Enzymes\"\n",
    "sim = Simulation(reference_model)\n",
    "sim.integrator.absolute_tolerance = 1e-15\n",
    "sim.integrator.relative_tolerance = 1e-9\n",
    "\n",
    "tfinal = 1e6\n",
    "conc_sol, flux_sol = sim.simulate(reference_model, time=(0, tfinal))\n",
    "conc_sol.view_time_profile(plot_function=\"semilogx\")\n"
   ]
  },
  {
   "cell_type": "markdown",
   "id": "38f76b06",
   "metadata": {},
   "source": [
    "#### Save a reference MASS model w/ enzymes"
   ]
  },
  {
   "cell_type": "code",
   "execution_count": null,
   "id": "9321e415",
   "metadata": {},
   "outputs": [],
   "source": [
    "conc_sol, flux_sol = sim.find_steady_state(\n",
    "    models=reference_model, strategy=\"simulate\", update_values=True,\n",
    "    tfinal=tfinal)\n",
    "if conc_sol and flux_sol:\n",
    "    # Save a reference MASS model\n",
    "    save_mass_json_model(\n",
    "        mass_model=reference_model,\n",
    "        filename=f\"./models/mass/with_enzymes/{reference_model.id}.json\")\n",
    "    print(f\"Saving {reference_model.id}\")\n",
    "reference_model"
   ]
  },
  {
   "cell_type": "markdown",
   "id": "b286130b",
   "metadata": {},
   "source": [
    "## Simulate to steady state and export ensemble"
   ]
  },
  {
   "cell_type": "code",
   "execution_count": null,
   "id": "265f4ba8",
   "metadata": {},
   "outputs": [],
   "source": [
    "sim = Simulation(final_ensemble[0])\n",
    "sim.integrator.absolute_tolerance = 1e-15\n",
    "sim.integrator.relative_tolerance = 1e-9\n",
    "sim.integrator.\n",
    "sim.add_models(final_ensemble[1:], disable_safe_load=True)\n",
    "for model in final_ensemble:\n",
    "    # Attempt to determine steady state\n",
    "    conc_sol, flux_sol = sim.find_steady_state(\n",
    "        models=model, strategy=\"simulate\", update_values=True,\n",
    "        tfinal=tfinal)\n",
    "    if conc_sol and flux_sol:\n",
    "        # Save a reference MASS model\n",
    "        save_mass_json_model(\n",
    "            mass_model=model,\n",
    "            filename=f\"./models/mass/with_enzymes/{model.id}.json\")\n",
    "        print(f\"Saving {model.id}\")\n",
    "    else:\n",
    "        print(f\"No steady state for {model.id}.\")"
   ]
  },
  {
   "cell_type": "code",
   "execution_count": 34,
   "id": "4744cf37",
   "metadata": {},
   "outputs": [
    {
     "data": {
      "text/html": [
       "\n",
       "            <table>\n",
       "                <tr>\n",
       "                    <td><strong>Name</strong></td><td>Glycolysis</td>\n",
       "                </tr><tr>\n",
       "                    <td><strong>Memory address</strong></td><td>0x020eb551b048</td>\n",
       "                </tr><tr>\n",
       "                    <td><strong>Stoichiometric Matrix</strong></td>\n",
       "                    <td>20x12</td>\n",
       "                </tr><tr>\n",
       "                    <td><strong>Matrix Rank</strong></td>\n",
       "                    <td>12</td>\n",
       "                </tr><tr>\n",
       "                    <td><strong>Number of metabolites</strong></td>\n",
       "                    <td>20</td>\n",
       "                </tr><tr>\n",
       "                    <td><strong>Initial conditions defined</strong></td>\n",
       "                    <td>20/20</td>\n",
       "                </tr><tr>\n",
       "                    <td><strong>Number of reactions</strong></td>\n",
       "                    <td>12</td>\n",
       "                </tr><tr>\n",
       "                    <td><strong>Number of genes</strong></td>\n",
       "                    <td>12</td>\n",
       "                </tr><tr>\n",
       "                    <td><strong>Number of enzyme modules</strong></td>\n",
       "                    <td>0</td>\n",
       "                </tr><tr>\n",
       "                    <td><strong>Number of groups</strong></td>\n",
       "                    <td>0</td>\n",
       "                </tr><tr>\n",
       "                    <td><strong>Objective expression</strong></td>\n",
       "                    <td>0</td>\n",
       "                </tr><tr>\n",
       "                    <td><strong>Compartments</strong></td>\n",
       "                    <td>c</td>\n",
       "                </tr>\n",
       "            </table>\n",
       "        "
      ],
      "text/plain": [
       "<MassModel Glycolysis at 0x20eb551b048>"
      ]
     },
     "execution_count": 34,
     "metadata": {},
     "output_type": "execute_result"
    }
   ],
   "source": [
    "mass_model"
   ]
  }
 ],
 "metadata": {
  "kernelspec": {
   "display_name": "Python 3 (ipykernel)",
   "language": "python",
   "name": "python3"
  },
  "language_info": {
   "codemirror_mode": {
    "name": "ipython",
    "version": 3
   },
   "file_extension": ".py",
   "mimetype": "text/x-python",
   "name": "python",
   "nbconvert_exporter": "python",
   "pygments_lexer": "ipython3",
   "version": "3.7.16"
  }
 },
 "nbformat": 4,
 "nbformat_minor": 5
}
